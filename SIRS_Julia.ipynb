{
 "cells": [
  {
   "cell_type": "code",
   "execution_count": 1,
   "metadata": {},
   "outputs": [
    {
     "name": "stdout",
     "output_type": "stream",
     "text": [
      " 31.358559 seconds (25.66 M allocations: 1.351 GiB, 2.83% gc time)\n",
      " 13.743924 seconds (8.74 M allocations: 465.084 MiB, 0.93% gc time)\n",
      "  0.001345 seconds (581 allocations: 28.328 KiB)\n"
     ]
    }
   ],
   "source": [
    "@time using Plots\n",
    "@time using Images\n",
    "@time using ColorSchemes"
   ]
  },
  {
   "cell_type": "markdown",
   "metadata": {},
   "source": [
    "## Auxilliary subroutines for SIR simulation"
   ]
  },
  {
   "cell_type": "code",
   "execution_count": 2,
   "metadata": {
    "scrolled": true
   },
   "outputs": [
    {
     "data": {
      "text/plain": [
       "neighbourIndices (generic function with 1 method)"
      ]
     },
     "execution_count": 2,
     "metadata": {},
     "output_type": "execute_result"
    }
   ],
   "source": [
    "function neighbourIndices(nType::Int64, rad::Int64)\n",
    "    indices = []\n",
    "    if(nType == 0)\n",
    "        indices = vcat([[i, 0] for i in -rad:rad], [[0, j] for j in -rad:rad])\n",
    "    elseif(nType == 1)\n",
    "        indices = [[i, j] for i in -rad:rad for j in -rad:rad]\n",
    "    elseif(nType == 2)\n",
    "        indices = [[i, j] for j in -rad:rad for i in (abs(j) - rad):(rad - abs(j))]\n",
    "    end\n",
    "    \n",
    "    indices = [CartesianIndex(ind...) for ind in setdiff(indices, [[0,0]])]\n",
    "end\n"
   ]
  },
  {
   "cell_type": "markdown",
   "metadata": {},
   "source": [
    "## Initial Conditions"
   ]
  },
  {
   "cell_type": "code",
   "execution_count": 3,
   "metadata": {},
   "outputs": [
    {
     "data": {
      "text/plain": [
       "setInitConditions (generic function with 1 method)"
      ]
     },
     "execution_count": 3,
     "metadata": {},
     "output_type": "execute_result"
    }
   ],
   "source": [
    "function setInitConditions(grid, init, tauI, tauR, indices)\n",
    "    if(init[1] == \"random\")\n",
    "        for index in indices\n",
    "            if(rand() < init[2])\n",
    "                grid[index] = tauI+1\n",
    "            end\n",
    "        end\n",
    "        grid[init[3], init[4]] = 1\n",
    "    \n",
    "    elseif(init[1] == \"assorted\")\n",
    "        for index in indices\n",
    "            if(rand() < init[2])\n",
    "                grid[index] = 1\n",
    "            elseif(rand() < init[3])\n",
    "                grid[index] = tauI+1\n",
    "            end\n",
    "        end\n",
    "        \n",
    "    elseif(init[1] == \"single\")\n",
    "        grid[init[2], init[3]] = 1\n",
    "        \n",
    "    elseif(init[1] == \"corners\")\n",
    "        grid[rad + 2, rad + 2] = 1\n",
    "        grid[rad + 2, n - rad - 2] = 1\n",
    "        grid[n - rad - 2, rad + 2] = 1\n",
    "        grid[n - rad - 2, n - rad - 2]  = 1\n",
    "         \n",
    "    elseif(init[1] == \"custom\")\n",
    "        grid[init[2], init[3]] = 1\n",
    "        grid[init[4], init[5]] = tauI + 1\n",
    "    end\n",
    "    \n",
    "    return\n",
    "end"
   ]
  },
  {
   "cell_type": "markdown",
   "metadata": {},
   "source": [
    "## Simulation"
   ]
  },
  {
   "cell_type": "code",
   "execution_count": 4,
   "metadata": {},
   "outputs": [
    {
     "data": {
      "text/plain": [
       "SIRSmodel (generic function with 1 method)"
      ]
     },
     "execution_count": 4,
     "metadata": {},
     "output_type": "execute_result"
    }
   ],
   "source": [
    "function SIRSmodel(n::Int64, tauI::Int64, tauR::Int64, nType::Int64, rad::Int64, nsteps::Int64, anim::Bool, colbar::Bool, fname, init)\n",
    "    grid = zeros(Int64, (n, n)) #2D grid\n",
    "    nData = zeros(Int64, (nsteps, 3)) #S,I,R count\n",
    "    frames = [] #to store grid for display\n",
    "    \n",
    "    infp = 0 #infection probability\n",
    "    tau0 = tauR + tauI #complete disease cycle \n",
    "    relNeighbour = neighbourIndices(nType, rad) #relative index of neighbours\n",
    "    isInfected(x) = 1 <= x <= tauI #infected check\n",
    "    indices = [CartesianIndex(i,j) for i in (rad+1):(n-rad) for j in (rad+1):(n-rad)]\n",
    "\n",
    "    #initial conditions\n",
    "    setInitConditions(grid, init, tauI, tauR, indices)\n",
    "    \n",
    "    #boundary conditions; fixed\n",
    "    grid[1:rad, :] .= tauI + 1\n",
    "    grid[(n-rad+1):n, :] .= tauI + 1\n",
    "    grid[:, 1:rad] .= tauI + 1\n",
    "    grid[:, (n-rad+1):n] .= tauI + 1   \n",
    "    \n",
    "    prev = copy(grid) #copy of the grid\n",
    "    push!(frames, copy(grid))\n",
    "    \n",
    "    #initial count\n",
    "    nData[1, 1] = count(x -> x==0, grid)\n",
    "    nData[1, 2] = count(x -> 1 <= x <= tauI, grid)\n",
    "    nData[1, 3] = count(x -> tauI < x <= tau0, grid)\n",
    "    \n",
    "    for k in 2:nsteps\n",
    "        nData[k, :] = nData[k-1, :]\n",
    "        \n",
    "        for index in indices\n",
    "            if(prev[index] == 0) #susceptible\n",
    "                infp = count(isInfected.(prev[relNeighbour .|> x-> index+x]))/length(relNeighbour)\n",
    "                \n",
    "                if(0<infp) #infection\n",
    "                    grid[index] += 1\n",
    "                    nData[k, 1] -= 1\n",
    "                    nData[k, 2] += 1\n",
    "                end\n",
    "                \n",
    "            elseif(prev[index] < tau0) #infected/refractory\n",
    "                grid[index] += 1\n",
    "                \n",
    "                if(grid[index] == tauI + 1) #transition to R\n",
    "                    nData[k, 2] -= 1\n",
    "                    nData[k, 3] += 1\n",
    "                end\n",
    "            \n",
    "            elseif(prev[index] == tau0) #transition to S\n",
    "                grid[index] = 0\n",
    "                nData[k, 3] -= 1\n",
    "                nData[k, 1] += 1\n",
    "            end\n",
    "        end\n",
    "        \n",
    "        prev = copy(grid)\n",
    "        push!(frames, copy(grid))\n",
    "    end\n",
    "    \n",
    "    #color gradient\n",
    "    colors = vcat([RGB{N0f8}(0, 0, 0)], range(RGB{N0f8}(0.5,0.0,0.0), stop=RGB{N0f8}(0.862,0,0), length= tauI),range(RGB{N0f8}(1,0.458,0.0), stop=RGB{N0f8}(1, 1, 0.196), length=tauR))\n",
    "    \n",
    "    if(colbar) #with colorbar\n",
    "        animGIF = @animate for i = 1:nsteps \n",
    "            heatmap(frames[i], c = palette(colors, tau0+1), clim = (0, tau0))\n",
    "        end\n",
    "        \n",
    "    else #without colorbar\n",
    "        cmap = Dict(zip(0:tau0+1, colors))\n",
    "        animGIF = @animate for i = 1:nsteps \n",
    "            plot([cmap[p] for p in frames[i]])\n",
    "        end\n",
    "    end\n",
    "        \n",
    "    gif(animGIF, fname, fps = 15)\n",
    "    \n",
    "    return nData\n",
    "end     \n",
    "    "
   ]
  },
  {
   "cell_type": "code",
   "execution_count": 64,
   "metadata": {
    "scrolled": true
   },
   "outputs": [
    {
     "name": "stdout",
     "output_type": "stream",
     "text": [
      " 18.774421 seconds (59.97 M allocations: 2.619 GiB, 2.09% gc time)\n"
     ]
    },
    {
     "name": "stderr",
     "output_type": "stream",
     "text": [
      "┌ Info: Saved animation to \n",
      "│   fn = /home/akshay/code-repo/ComplexSystems/outputs2/2SIRS1.gif\n",
      "└ @ Plots /home/akshay/.julia/packages/Plots/uCh2y/src/animation.jl:104\n"
     ]
    }
   ],
   "source": [
    "#function SIRSmodel(n, tauI, tauR, nType, rad, nsteps, anim, colorbar, init)\n",
    "nsteps = 200\n",
    "s = 150\n",
    "num = 1\n",
    "@time data = SIRSmodel(s, 3, 5, 2, num, nsteps, true, false, \"outputs2/2SIRS\"*string(num)*\".gif\", [\"single\", s÷2, s÷2])\n",
    "x = 1:nsteps\n",
    "plot(x, data, label = [\"Susceptible\" \"Infected\" \"Refractory\"], lw = 2, grid = true)\n",
    "savefig(\"outputs2/plot2\"*string(num)*\".png\")\n",
    "\n",
    "io = open(\"outputs2/data2\"*string(num)*\".txt\", \"w\")\n",
    "println(io, data[:, 1])\n",
    "close(io)"
   ]
  },
  {
   "cell_type": "markdown",
   "metadata": {},
   "source": [
    "## Collect data version"
   ]
  },
  {
   "cell_type": "code",
   "execution_count": null,
   "metadata": {},
   "outputs": [],
   "source": []
  },
  {
   "cell_type": "code",
   "execution_count": 44,
   "metadata": {},
   "outputs": [
    {
     "data": {
      "text/plain": [
       "SIRSmodelCollect (generic function with 2 methods)"
      ]
     },
     "execution_count": 44,
     "metadata": {},
     "output_type": "execute_result"
    }
   ],
   "source": [
    "function SIRSmodelCollect(n::Int64, tauI::Int64, tauR::Int64, pImmune::Float64, nType::Int64, rad::Int64, nsteps::Int64, anim::Bool, colbar::Bool, fname, init)\n",
    "    grid = zeros(Int64, (n + 2*rad, n + 2*rad)) #2D grid\n",
    "    nData = zeros(Int64, (nsteps, 4)) #S,I,R count\n",
    "    frames = [] #to store grid for display\n",
    "    \n",
    "    infp = 0 #infection probability\n",
    "    tau0 = tauR + tauI #complete disease cycle \n",
    "    isInfected(x) = 1 <= x <= tauI #infected check\n",
    "    \n",
    "    relNeighbour = neighbourIndices(nType, rad) #relative index of neighbours\n",
    "    indices = [CartesianIndex(i,j) for i in (rad+1):(n+rad) for j in (rad+1):(n+rad)]\n",
    "    \n",
    "    #initial conditions\n",
    "    setInitConditions(grid, init, tauI, tauR, indices)\n",
    "    \n",
    "    #boundary conditions; fixed\n",
    "    grid[1:rad, :] .= tauI + 1\n",
    "    grid[(n+rad+1):(n+2*rad), :] .= tauI + 1\n",
    "    grid[:, 1:rad] .= tauI + 1\n",
    "    grid[:, (n+rad+1):(n+2*rad)] .= tauI + 1   \n",
    "    \n",
    "    prev = copy(grid) #copy of the grid\n",
    "    push!(frames, copy(grid))\n",
    "    \n",
    "    #initial count\n",
    "    nData[1, 1] = count(x -> x==0, grid)\n",
    "    nData[1, 2] = count(x -> 1 <= x <= tauI, grid[indices])\n",
    "    nData[1, 3] = count(x -> tauI < x <= tau0, grid[indices])\n",
    "    nData[1, 4] = count(x -> tau0 < x, grid[indices])\n",
    "    \n",
    "    for k in 2:nsteps\n",
    "        nData[k, :] = nData[k-1, :]\n",
    "        \n",
    "        for index in indices\n",
    "            if(prev[index] == 0) #susceptible\n",
    "                infp = count(isInfected.(prev[relNeighbour .|> x-> index+x]))/length(relNeighbour)\n",
    "                \n",
    "                if(rand()<infp) #infection\n",
    "                    grid[index] += 1\n",
    "                    nData[k, 1] -= 1\n",
    "                    nData[k, 2] += 1\n",
    "                end\n",
    "                \n",
    "            elseif(prev[index] < tau0) #infected/refractory\n",
    "                grid[index] += 1\n",
    "                \n",
    "                if(grid[index] == tauI + 1) #transition to R\n",
    "                    nData[k, 2] -= 1\n",
    "                    nData[k, 3] += 1\n",
    "                end\n",
    "            \n",
    "            elseif(prev[index] == tau0) #transition to S\n",
    "                nData[k, 3] -= 1\n",
    "                \n",
    "                if(rand() < pImmune)\n",
    "                    grid[index] += 1\n",
    "                    nData[k, 4] += 1\n",
    "                else \n",
    "                    grid[index] = 0\n",
    "                    nData[k, 1] += 1\n",
    "                end\n",
    "                    \n",
    "            end\n",
    "        end\n",
    "        \n",
    "        prev = copy(grid)\n",
    "        push!(frames, copy(grid))\n",
    "        \n",
    "    end\n",
    "    \n",
    "    #color gradient\n",
    "    colors = vcat([RGB{N0f8}(0, 0, 0)], range(RGB{N0f8}(0.5,0.0,0.0), stop=RGB{N0f8}(0.862,0,0), length= tauI),range(RGB{N0f8}(1,0.458,0.0), stop=RGB{N0f8}(1, 1, 0.196), length=tauR), [RGB{N0f8}(0.411,0.411,0.411)])\n",
    "    \n",
    "    if(colbar) #with colorbar\n",
    "        animGIF = @animate for i = 1:nsteps \n",
    "            heatmap(frames[i], c = palette(colors, tau0+1), clim = (0, tau0))\n",
    "        end\n",
    "        \n",
    "    else #without colorbar\n",
    "        cmap = Dict(zip(0:tau0+1, colors))\n",
    "        animGIF = @animate for i = 1:nsteps\n",
    "            plot([cmap[p] for p in frames[i]])\n",
    "        end\n",
    "    end\n",
    "        \n",
    "    gif(animGIF, fname, fps = 15)\n",
    "    \n",
    "    return nData\n",
    "end     "
   ]
  },
  {
   "cell_type": "code",
   "execution_count": 87,
   "metadata": {},
   "outputs": [
    {
     "name": "stdout",
     "output_type": "stream",
     "text": [
      " 29.415069 seconds (46.38 M allocations: 1.922 GiB, 1.90% gc time)\n",
      "40.89"
     ]
    },
    {
     "name": "stderr",
     "output_type": "stream",
     "text": [
      "┌ Info: Saved animation to \n",
      "│   fn = /home/akshay/code-repo/ComplexSystems/outputs2/5+10_SIRS_0_1->0.15%.gif\n",
      "└ @ Plots /home/akshay/.julia/packages/Plots/uCh2y/src/animation.jl:104\n"
     ]
    },
    {
     "name": "stdout",
     "output_type": "stream",
     "text": [
      "\n"
     ]
    }
   ],
   "source": [
    "#function SIRSmodel(n, tauI, tauR, nType, rad, nsteps, anim, colorbar, init)\n",
    "nsteps = 400\n",
    "s = 100\n",
    "num = 1 #radius\n",
    "ntype = 0\n",
    "taui = 5\n",
    "taur = 10\n",
    "pimmune = 0.15\n",
    "\n",
    "@time data = SIRSmodelCollect(s, taui, taur, pimmune, ntype, num, nsteps, true, false, \"outputs2/\"*string(taui)*\"+\"*string(taur)*\"_SIRS_\"*string(ntype)*\"_\"*string(num)*\"->\"*string(pimmune)*\"%.gif\", [\"single\", s÷2 + num, s÷2 + num])\n",
    "\n",
    "x = 1:nsteps\n",
    "plot(x, data ./ s^2, label = [\"Susceptible\" \"Infected\" \"Refractory\" \"Immune\"], lw = 2, grid = true)\n",
    "savefig(\"outputs2/\"*string(taui)*\"+\"*string(taur)*\"_plot_\"*string(ntype)*\"_\"*string(num)*\"->\"*string(pimmune)*\"%.png\")\n",
    "println(data[nsteps,4]/s^2 *100)"
   ]
  },
  {
   "cell_type": "code",
   "execution_count": 88,
   "metadata": {},
   "outputs": [
    {
     "data": {
      "text/plain": [
       "9-element Array{Any,1}:\n",
       " [38.79, 37.49, 38.62, 39.23, 39.8]\n",
       " [39.98, 40.22, 41.02, 40.89]\n",
       " [41.78, 42.19, 43.97, 43.44, 42.99]\n",
       " [45.55, 43.9, 44.9, 44.84, 44.84]\n",
       " [44.41, 42.86, 42.54, 43.48, 43.46]\n",
       " [40.39, 41.39, 40.33, 40.15]\n",
       " [42.27, 41.6, 42.03, 41.66, 40.98]\n",
       " [46.56, 46.94, 45.76, 46.39]\n",
       " [50.92, 51.12, 51.54]"
      ]
     },
     "execution_count": 88,
     "metadata": {},
     "output_type": "execute_result"
    }
   ],
   "source": [
    "x = []\n",
    "push!(x,[38.79, 37.49, 38.62, 39.23, 39.8]) #0.1\n",
    "push!(x,[39.98, 40.22, 41.02, 40.89]) #0.15\n",
    "push!(x,[41.78, 42.19, 43.97, 43.44, 42.99]) #0.2\n",
    "push!(x,[45.55, 43.9, 44.9, 44.84, 44.84]) #0.25\n",
    "push!(x,[44.41, 42.86, 42.54, 43.48, 43.46]) #0.3\n",
    "push!(x,[40.39, 41.39, 40.33, 40.15]) #0.35\n",
    "push!(x,[42.27, 41.6, 42.03, 41.66, 40.98]) #0.4\n",
    "push!(x,[46.56, 46.94, 45.76, 46.39]) #0.45\n",
    "push!(x,[50.92, 51.12, 51.54]) #0.5\n"
   ]
  },
  {
   "cell_type": "code",
   "execution_count": 92,
   "metadata": {},
   "outputs": [
    {
     "data": {
      "image/svg+xml": [
       "<?xml version=\"1.0\" encoding=\"utf-8\"?>\n",
       "<svg xmlns=\"http://www.w3.org/2000/svg\" xmlns:xlink=\"http://www.w3.org/1999/xlink\" width=\"600\" height=\"400\" viewBox=\"0 0 2400 1600\">\n",
       "<defs>\n",
       "  <clipPath id=\"clip930\">\n",
       "    <rect x=\"0\" y=\"0\" width=\"2400\" height=\"1600\"/>\n",
       "  </clipPath>\n",
       "</defs>\n",
       "<path clip-path=\"url(#clip930)\" d=\"\n",
       "M0 1600 L2400 1600 L2400 0 L0 0  Z\n",
       "  \" fill=\"#ffffff\" fill-rule=\"evenodd\" fill-opacity=\"1\"/>\n",
       "<defs>\n",
       "  <clipPath id=\"clip931\">\n",
       "    <rect x=\"480\" y=\"0\" width=\"1681\" height=\"1600\"/>\n",
       "  </clipPath>\n",
       "</defs>\n",
       "<path clip-path=\"url(#clip930)\" d=\"\n",
       "M176.158 1486.45 L2352.76 1486.45 L2352.76 47.2441 L176.158 47.2441  Z\n",
       "  \" fill=\"#ffffff\" fill-rule=\"evenodd\" fill-opacity=\"1\"/>\n",
       "<defs>\n",
       "  <clipPath id=\"clip932\">\n",
       "    <rect x=\"176\" y=\"47\" width=\"2178\" height=\"1440\"/>\n",
       "  </clipPath>\n",
       "</defs>\n",
       "<polyline clip-path=\"url(#clip932)\" style=\"stroke:#000000; stroke-width:2; stroke-opacity:0.1; fill:none\" points=\"\n",
       "  237.76,1486.45 237.76,47.2441 \n",
       "  \"/>\n",
       "<polyline clip-path=\"url(#clip932)\" style=\"stroke:#000000; stroke-width:2; stroke-opacity:0.1; fill:none\" points=\"\n",
       "  751.109,1486.45 751.109,47.2441 \n",
       "  \"/>\n",
       "<polyline clip-path=\"url(#clip932)\" style=\"stroke:#000000; stroke-width:2; stroke-opacity:0.1; fill:none\" points=\"\n",
       "  1264.46,1486.45 1264.46,47.2441 \n",
       "  \"/>\n",
       "<polyline clip-path=\"url(#clip932)\" style=\"stroke:#000000; stroke-width:2; stroke-opacity:0.1; fill:none\" points=\"\n",
       "  1777.81,1486.45 1777.81,47.2441 \n",
       "  \"/>\n",
       "<polyline clip-path=\"url(#clip932)\" style=\"stroke:#000000; stroke-width:2; stroke-opacity:0.1; fill:none\" points=\"\n",
       "  2291.15,1486.45 2291.15,47.2441 \n",
       "  \"/>\n",
       "<polyline clip-path=\"url(#clip930)\" style=\"stroke:#000000; stroke-width:4; stroke-opacity:1; fill:none\" points=\"\n",
       "  176.158,1486.45 2352.76,1486.45 \n",
       "  \"/>\n",
       "<polyline clip-path=\"url(#clip930)\" style=\"stroke:#000000; stroke-width:4; stroke-opacity:1; fill:none\" points=\"\n",
       "  237.76,1486.45 237.76,1469.18 \n",
       "  \"/>\n",
       "<polyline clip-path=\"url(#clip930)\" style=\"stroke:#000000; stroke-width:4; stroke-opacity:1; fill:none\" points=\"\n",
       "  751.109,1486.45 751.109,1469.18 \n",
       "  \"/>\n",
       "<polyline clip-path=\"url(#clip930)\" style=\"stroke:#000000; stroke-width:4; stroke-opacity:1; fill:none\" points=\"\n",
       "  1264.46,1486.45 1264.46,1469.18 \n",
       "  \"/>\n",
       "<polyline clip-path=\"url(#clip930)\" style=\"stroke:#000000; stroke-width:4; stroke-opacity:1; fill:none\" points=\"\n",
       "  1777.81,1486.45 1777.81,1469.18 \n",
       "  \"/>\n",
       "<polyline clip-path=\"url(#clip930)\" style=\"stroke:#000000; stroke-width:4; stroke-opacity:1; fill:none\" points=\"\n",
       "  2291.15,1486.45 2291.15,1469.18 \n",
       "  \"/>\n",
       "<path clip-path=\"url(#clip930)\" d=\"M 0 0 M219.89 1515.64 Q216.279 1515.64 214.45 1519.2 Q212.645 1522.75 212.645 1529.87 Q212.645 1536.98 214.45 1540.55 Q216.279 1544.09 219.89 1544.09 Q223.524 1544.09 225.33 1540.55 Q227.158 1536.98 227.158 1529.87 Q227.158 1522.75 225.33 1519.2 Q223.524 1515.64 219.89 1515.64 M219.89 1511.93 Q225.7 1511.93 228.756 1516.54 Q231.834 1521.12 231.834 1529.87 Q231.834 1538.6 228.756 1543.21 Q225.7 1547.79 219.89 1547.79 Q214.08 1547.79 211.001 1543.21 Q207.945 1538.6 207.945 1529.87 Q207.945 1521.12 211.001 1516.54 Q214.08 1511.93 219.89 1511.93 Z\" fill=\"#000000\" fill-rule=\"evenodd\" fill-opacity=\"1\" /><path clip-path=\"url(#clip930)\" d=\"M 0 0 M236.904 1541.24 L241.788 1541.24 L241.788 1547.12 L236.904 1547.12 L236.904 1541.24 Z\" fill=\"#000000\" fill-rule=\"evenodd\" fill-opacity=\"1\" /><path clip-path=\"url(#clip930)\" d=\"M 0 0 M247.667 1543.18 L255.306 1543.18 L255.306 1516.82 L246.996 1518.49 L246.996 1514.23 L255.26 1512.56 L259.936 1512.56 L259.936 1543.18 L267.575 1543.18 L267.575 1547.12 L247.667 1547.12 L247.667 1543.18 Z\" fill=\"#000000\" fill-rule=\"evenodd\" fill-opacity=\"1\" /><path clip-path=\"url(#clip930)\" d=\"M 0 0 M733.424 1515.64 Q729.812 1515.64 727.984 1519.2 Q726.178 1522.75 726.178 1529.87 Q726.178 1536.98 727.984 1540.55 Q729.812 1544.09 733.424 1544.09 Q737.058 1544.09 738.863 1540.55 Q740.692 1536.98 740.692 1529.87 Q740.692 1522.75 738.863 1519.2 Q737.058 1515.64 733.424 1515.64 M733.424 1511.93 Q739.234 1511.93 742.289 1516.54 Q745.368 1521.12 745.368 1529.87 Q745.368 1538.6 742.289 1543.21 Q739.234 1547.79 733.424 1547.79 Q727.613 1547.79 724.535 1543.21 Q721.479 1538.6 721.479 1529.87 Q721.479 1521.12 724.535 1516.54 Q727.613 1511.93 733.424 1511.93 Z\" fill=\"#000000\" fill-rule=\"evenodd\" fill-opacity=\"1\" /><path clip-path=\"url(#clip930)\" d=\"M 0 0 M750.437 1541.24 L755.322 1541.24 L755.322 1547.12 L750.437 1547.12 L750.437 1541.24 Z\" fill=\"#000000\" fill-rule=\"evenodd\" fill-opacity=\"1\" /><path clip-path=\"url(#clip930)\" d=\"M 0 0 M764.419 1543.18 L780.738 1543.18 L780.738 1547.12 L758.794 1547.12 L758.794 1543.18 Q761.456 1540.43 766.039 1535.8 Q770.646 1531.15 771.826 1529.81 Q774.071 1527.28 774.951 1525.55 Q775.854 1523.79 775.854 1522.1 Q775.854 1519.34 773.909 1517.61 Q771.988 1515.87 768.886 1515.87 Q766.687 1515.87 764.234 1516.63 Q761.803 1517.4 759.025 1518.95 L759.025 1514.23 Q761.849 1513.09 764.303 1512.51 Q766.757 1511.93 768.794 1511.93 Q774.164 1511.93 777.358 1514.62 Q780.553 1517.31 780.553 1521.8 Q780.553 1523.93 779.743 1525.85 Q778.956 1527.74 776.849 1530.34 Q776.271 1531.01 773.169 1534.23 Q770.067 1537.42 764.419 1543.18 Z\" fill=\"#000000\" fill-rule=\"evenodd\" fill-opacity=\"1\" /><path clip-path=\"url(#clip930)\" d=\"M 0 0 M1246.3 1515.64 Q1242.69 1515.64 1240.86 1519.2 Q1239.05 1522.75 1239.05 1529.87 Q1239.05 1536.98 1240.86 1540.55 Q1242.69 1544.09 1246.3 1544.09 Q1249.93 1544.09 1251.74 1540.55 Q1253.57 1536.98 1253.57 1529.87 Q1253.57 1522.75 1251.74 1519.2 Q1249.93 1515.64 1246.3 1515.64 M1246.3 1511.93 Q1252.11 1511.93 1255.16 1516.54 Q1258.24 1521.12 1258.24 1529.87 Q1258.24 1538.6 1255.16 1543.21 Q1252.11 1547.79 1246.3 1547.79 Q1240.49 1547.79 1237.41 1543.21 Q1234.35 1538.6 1234.35 1529.87 Q1234.35 1521.12 1237.41 1516.54 Q1240.49 1511.93 1246.3 1511.93 Z\" fill=\"#000000\" fill-rule=\"evenodd\" fill-opacity=\"1\" /><path clip-path=\"url(#clip930)\" d=\"M 0 0 M1263.31 1541.24 L1268.2 1541.24 L1268.2 1547.12 L1263.31 1547.12 L1263.31 1541.24 Z\" fill=\"#000000\" fill-rule=\"evenodd\" fill-opacity=\"1\" /><path clip-path=\"url(#clip930)\" d=\"M 0 0 M1287.43 1528.49 Q1290.79 1529.2 1292.66 1531.47 Q1294.56 1533.74 1294.56 1537.07 Q1294.56 1542.19 1291.04 1544.99 Q1287.52 1547.79 1281.04 1547.79 Q1278.87 1547.79 1276.55 1547.35 Q1274.26 1546.93 1271.81 1546.08 L1271.81 1541.56 Q1273.75 1542.7 1276.07 1543.28 Q1278.38 1543.86 1280.9 1543.86 Q1285.3 1543.86 1287.59 1542.12 Q1289.91 1540.38 1289.91 1537.07 Q1289.91 1534.02 1287.76 1532.31 Q1285.63 1530.57 1281.81 1530.57 L1277.78 1530.57 L1277.78 1526.73 L1281.99 1526.73 Q1285.44 1526.73 1287.27 1525.36 Q1289.1 1523.97 1289.1 1521.38 Q1289.1 1518.72 1287.2 1517.31 Q1285.33 1515.87 1281.81 1515.87 Q1279.89 1515.87 1277.69 1516.29 Q1275.49 1516.7 1272.85 1517.58 L1272.85 1513.42 Q1275.51 1512.68 1277.83 1512.31 Q1280.16 1511.93 1282.22 1511.93 Q1287.55 1511.93 1290.65 1514.37 Q1293.75 1516.77 1293.75 1520.89 Q1293.75 1523.76 1292.11 1525.75 Q1290.46 1527.72 1287.43 1528.49 Z\" fill=\"#000000\" fill-rule=\"evenodd\" fill-opacity=\"1\" /><path clip-path=\"url(#clip930)\" d=\"M 0 0 M1759.08 1515.64 Q1755.47 1515.64 1753.64 1519.2 Q1751.83 1522.75 1751.83 1529.87 Q1751.83 1536.98 1753.64 1540.55 Q1755.47 1544.09 1759.08 1544.09 Q1762.71 1544.09 1764.52 1540.55 Q1766.35 1536.98 1766.35 1529.87 Q1766.35 1522.75 1764.52 1519.2 Q1762.71 1515.64 1759.08 1515.64 M1759.08 1511.93 Q1764.89 1511.93 1767.94 1516.54 Q1771.02 1521.12 1771.02 1529.87 Q1771.02 1538.6 1767.94 1543.21 Q1764.89 1547.79 1759.08 1547.79 Q1753.27 1547.79 1750.19 1543.21 Q1747.13 1538.6 1747.13 1529.87 Q1747.13 1521.12 1750.19 1516.54 Q1753.27 1511.93 1759.08 1511.93 Z\" fill=\"#000000\" fill-rule=\"evenodd\" fill-opacity=\"1\" /><path clip-path=\"url(#clip930)\" d=\"M 0 0 M1776.09 1541.24 L1780.98 1541.24 L1780.98 1547.12 L1776.09 1547.12 L1776.09 1541.24 Z\" fill=\"#000000\" fill-rule=\"evenodd\" fill-opacity=\"1\" /><path clip-path=\"url(#clip930)\" d=\"M 0 0 M1798.89 1516.63 L1787.09 1535.08 L1798.89 1535.08 L1798.89 1516.63 M1797.67 1512.56 L1803.55 1512.56 L1803.55 1535.08 L1808.48 1535.08 L1808.48 1538.97 L1803.55 1538.97 L1803.55 1547.12 L1798.89 1547.12 L1798.89 1538.97 L1783.29 1538.97 L1783.29 1534.46 L1797.67 1512.56 Z\" fill=\"#000000\" fill-rule=\"evenodd\" fill-opacity=\"1\" /><path clip-path=\"url(#clip930)\" d=\"M 0 0 M2273.17 1515.64 Q2269.56 1515.64 2267.73 1519.2 Q2265.92 1522.75 2265.92 1529.87 Q2265.92 1536.98 2267.73 1540.55 Q2269.56 1544.09 2273.17 1544.09 Q2276.8 1544.09 2278.61 1540.55 Q2280.44 1536.98 2280.44 1529.87 Q2280.44 1522.75 2278.61 1519.2 Q2276.8 1515.64 2273.17 1515.64 M2273.17 1511.93 Q2278.98 1511.93 2282.03 1516.54 Q2285.11 1521.12 2285.11 1529.87 Q2285.11 1538.6 2282.03 1543.21 Q2278.98 1547.79 2273.17 1547.79 Q2267.36 1547.79 2264.28 1543.21 Q2261.22 1538.6 2261.22 1529.87 Q2261.22 1521.12 2264.28 1516.54 Q2267.36 1511.93 2273.17 1511.93 Z\" fill=\"#000000\" fill-rule=\"evenodd\" fill-opacity=\"1\" /><path clip-path=\"url(#clip930)\" d=\"M 0 0 M2290.18 1541.24 L2295.07 1541.24 L2295.07 1547.12 L2290.18 1547.12 L2290.18 1541.24 Z\" fill=\"#000000\" fill-rule=\"evenodd\" fill-opacity=\"1\" /><path clip-path=\"url(#clip930)\" d=\"M 0 0 M2300.18 1512.56 L2318.54 1512.56 L2318.54 1516.5 L2304.46 1516.5 L2304.46 1524.97 Q2305.48 1524.62 2306.5 1524.46 Q2307.52 1524.27 2308.54 1524.27 Q2314.33 1524.27 2317.7 1527.44 Q2321.08 1530.62 2321.08 1536.03 Q2321.08 1541.61 2317.61 1544.71 Q2314.14 1547.79 2307.82 1547.79 Q2305.64 1547.79 2303.38 1547.42 Q2301.13 1547.05 2298.72 1546.31 L2298.72 1541.61 Q2300.81 1542.74 2303.03 1543.3 Q2305.25 1543.86 2307.73 1543.86 Q2311.73 1543.86 2314.07 1541.75 Q2316.41 1539.64 2316.41 1536.03 Q2316.41 1532.42 2314.07 1530.31 Q2311.73 1528.21 2307.73 1528.21 Q2305.85 1528.21 2303.98 1528.62 Q2302.13 1529.04 2300.18 1529.92 L2300.18 1512.56 Z\" fill=\"#000000\" fill-rule=\"evenodd\" fill-opacity=\"1\" /><polyline clip-path=\"url(#clip932)\" style=\"stroke:#000000; stroke-width:2; stroke-opacity:0.1; fill:none\" points=\"\n",
       "  176.158,1312.87 2352.76,1312.87 \n",
       "  \"/>\n",
       "<polyline clip-path=\"url(#clip932)\" style=\"stroke:#000000; stroke-width:2; stroke-opacity:0.1; fill:none\" points=\"\n",
       "  176.158,1039.29 2352.76,1039.29 \n",
       "  \"/>\n",
       "<polyline clip-path=\"url(#clip932)\" style=\"stroke:#000000; stroke-width:2; stroke-opacity:0.1; fill:none\" points=\"\n",
       "  176.158,765.715 2352.76,765.715 \n",
       "  \"/>\n",
       "<polyline clip-path=\"url(#clip932)\" style=\"stroke:#000000; stroke-width:2; stroke-opacity:0.1; fill:none\" points=\"\n",
       "  176.158,492.139 2352.76,492.139 \n",
       "  \"/>\n",
       "<polyline clip-path=\"url(#clip932)\" style=\"stroke:#000000; stroke-width:2; stroke-opacity:0.1; fill:none\" points=\"\n",
       "  176.158,218.563 2352.76,218.563 \n",
       "  \"/>\n",
       "<polyline clip-path=\"url(#clip930)\" style=\"stroke:#000000; stroke-width:4; stroke-opacity:1; fill:none\" points=\"\n",
       "  176.158,1486.45 176.158,47.2441 \n",
       "  \"/>\n",
       "<polyline clip-path=\"url(#clip930)\" style=\"stroke:#000000; stroke-width:4; stroke-opacity:1; fill:none\" points=\"\n",
       "  176.158,1312.87 202.277,1312.87 \n",
       "  \"/>\n",
       "<polyline clip-path=\"url(#clip930)\" style=\"stroke:#000000; stroke-width:4; stroke-opacity:1; fill:none\" points=\"\n",
       "  176.158,1039.29 202.277,1039.29 \n",
       "  \"/>\n",
       "<polyline clip-path=\"url(#clip930)\" style=\"stroke:#000000; stroke-width:4; stroke-opacity:1; fill:none\" points=\"\n",
       "  176.158,765.715 202.277,765.715 \n",
       "  \"/>\n",
       "<polyline clip-path=\"url(#clip930)\" style=\"stroke:#000000; stroke-width:4; stroke-opacity:1; fill:none\" points=\"\n",
       "  176.158,492.139 202.277,492.139 \n",
       "  \"/>\n",
       "<polyline clip-path=\"url(#clip930)\" style=\"stroke:#000000; stroke-width:4; stroke-opacity:1; fill:none\" points=\"\n",
       "  176.158,218.563 202.277,218.563 \n",
       "  \"/>\n",
       "<path clip-path=\"url(#clip930)\" d=\"M 0 0 M66.5939 1299.66 L54.7884 1318.11 L66.5939 1318.11 L66.5939 1299.66 M65.367 1295.59 L71.2466 1295.59 L71.2466 1318.11 L76.1772 1318.11 L76.1772 1322 L71.2466 1322 L71.2466 1330.15 L66.5939 1330.15 L66.5939 1322 L50.9921 1322 L50.9921 1317.49 L65.367 1295.59 Z\" fill=\"#000000\" fill-rule=\"evenodd\" fill-opacity=\"1\" /><path clip-path=\"url(#clip930)\" d=\"M 0 0 M91.2465 1298.67 Q87.6354 1298.67 85.8068 1302.23 Q84.0012 1305.77 84.0012 1312.9 Q84.0012 1320.01 85.8068 1323.57 Q87.6354 1327.11 91.2465 1327.11 Q94.8808 1327.11 96.6863 1323.57 Q98.515 1320.01 98.515 1312.9 Q98.515 1305.77 96.6863 1302.23 Q94.8808 1298.67 91.2465 1298.67 M91.2465 1294.96 Q97.0567 1294.96 100.112 1299.57 Q103.191 1304.15 103.191 1312.9 Q103.191 1321.63 100.112 1326.24 Q97.0567 1330.82 91.2465 1330.82 Q85.4364 1330.82 82.3577 1326.24 Q79.3022 1321.63 79.3022 1312.9 Q79.3022 1304.15 82.3577 1299.57 Q85.4364 1294.96 91.2465 1294.96 Z\" fill=\"#000000\" fill-rule=\"evenodd\" fill-opacity=\"1\" /><path clip-path=\"url(#clip930)\" d=\"M 0 0 M108.26 1324.27 L113.145 1324.27 L113.145 1330.15 L108.26 1330.15 L108.26 1324.27 Z\" fill=\"#000000\" fill-rule=\"evenodd\" fill-opacity=\"1\" /><path clip-path=\"url(#clip930)\" d=\"M 0 0 M128.214 1298.67 Q124.603 1298.67 122.774 1302.23 Q120.969 1305.77 120.969 1312.9 Q120.969 1320.01 122.774 1323.57 Q124.603 1327.11 128.214 1327.11 Q131.848 1327.11 133.654 1323.57 Q135.482 1320.01 135.482 1312.9 Q135.482 1305.77 133.654 1302.23 Q131.848 1298.67 128.214 1298.67 M128.214 1294.96 Q134.024 1294.96 137.08 1299.57 Q140.158 1304.15 140.158 1312.9 Q140.158 1321.63 137.08 1326.24 Q134.024 1330.82 128.214 1330.82 Q122.404 1330.82 119.325 1326.24 Q116.27 1321.63 116.27 1312.9 Q116.27 1304.15 119.325 1299.57 Q122.404 1294.96 128.214 1294.96 Z\" fill=\"#000000\" fill-rule=\"evenodd\" fill-opacity=\"1\" /><path clip-path=\"url(#clip930)\" d=\"M 0 0 M69.1865 1026.09 L57.381 1044.53 L69.1865 1044.53 L69.1865 1026.09 M67.9596 1022.01 L73.8392 1022.01 L73.8392 1044.53 L78.7698 1044.53 L78.7698 1048.42 L73.8392 1048.42 L73.8392 1056.57 L69.1865 1056.57 L69.1865 1048.42 L53.5847 1048.42 L53.5847 1043.91 L67.9596 1022.01 Z\" fill=\"#000000\" fill-rule=\"evenodd\" fill-opacity=\"1\" /><path clip-path=\"url(#clip930)\" d=\"M 0 0 M87.8669 1052.64 L104.186 1052.64 L104.186 1056.57 L82.242 1056.57 L82.242 1052.64 Q84.904 1049.88 89.4873 1045.25 Q94.0937 1040.6 95.2743 1039.26 Q97.5197 1036.73 98.3993 1035 Q99.3021 1033.24 99.3021 1031.55 Q99.3021 1028.79 97.3576 1027.06 Q95.4363 1025.32 92.3345 1025.32 Q90.1354 1025.32 87.6817 1026.09 Q85.2512 1026.85 82.4734 1028.4 L82.4734 1023.68 Q85.2975 1022.54 87.7512 1021.96 Q90.2049 1021.39 92.2419 1021.39 Q97.6122 1021.39 100.807 1024.07 Q104.001 1026.76 104.001 1031.25 Q104.001 1033.38 103.191 1035.3 Q102.404 1037.2 100.297 1039.79 Q99.7187 1040.46 96.6169 1043.68 Q93.515 1046.87 87.8669 1052.64 Z\" fill=\"#000000\" fill-rule=\"evenodd\" fill-opacity=\"1\" /><path clip-path=\"url(#clip930)\" d=\"M 0 0 M109.256 1050.69 L114.14 1050.69 L114.14 1056.57 L109.256 1056.57 L109.256 1050.69 Z\" fill=\"#000000\" fill-rule=\"evenodd\" fill-opacity=\"1\" /><path clip-path=\"url(#clip930)\" d=\"M 0 0 M119.256 1022.01 L137.612 1022.01 L137.612 1025.95 L123.538 1025.95 L123.538 1034.42 Q124.557 1034.07 125.575 1033.91 Q126.594 1033.72 127.612 1033.72 Q133.399 1033.72 136.779 1036.9 Q140.158 1040.07 140.158 1045.48 Q140.158 1051.06 136.686 1054.16 Q133.214 1057.24 126.894 1057.24 Q124.719 1057.24 122.45 1056.87 Q120.205 1056.5 117.797 1055.76 L117.797 1051.06 Q119.881 1052.2 122.103 1052.75 Q124.325 1053.31 126.802 1053.31 Q130.807 1053.31 133.144 1051.2 Q135.482 1049.09 135.482 1045.48 Q135.482 1041.87 133.144 1039.77 Q130.807 1037.66 126.802 1037.66 Q124.927 1037.66 123.052 1038.08 Q121.2 1038.49 119.256 1039.37 L119.256 1022.01 Z\" fill=\"#000000\" fill-rule=\"evenodd\" fill-opacity=\"1\" /><path clip-path=\"url(#clip930)\" d=\"M 0 0 M67.5893 752.509 L55.7838 770.958 L67.5893 770.958 L67.5893 752.509 M66.3624 748.435 L72.242 748.435 L72.242 770.958 L77.1725 770.958 L77.1725 774.847 L72.242 774.847 L72.242 782.995 L67.5893 782.995 L67.5893 774.847 L51.9875 774.847 L51.9875 770.333 L66.3624 748.435 Z\" fill=\"#000000\" fill-rule=\"evenodd\" fill-opacity=\"1\" /><path clip-path=\"url(#clip930)\" d=\"M 0 0 M82.2883 748.435 L100.645 748.435 L100.645 752.37 L86.5706 752.37 L86.5706 760.843 Q87.5892 760.495 88.6077 760.333 Q89.6262 760.148 90.6447 760.148 Q96.4317 760.148 99.8113 763.319 Q103.191 766.491 103.191 771.907 Q103.191 777.486 99.7187 780.588 Q96.2465 783.666 89.9271 783.666 Q87.7512 783.666 85.4827 783.296 Q83.2373 782.926 80.8299 782.185 L80.8299 777.486 Q82.9133 778.62 85.1355 779.176 Q87.3577 779.731 89.8345 779.731 Q93.8391 779.731 96.1771 777.625 Q98.515 775.518 98.515 771.907 Q98.515 768.296 96.1771 766.19 Q93.8391 764.083 89.8345 764.083 Q87.9595 764.083 86.0845 764.5 Q84.2327 764.917 82.2883 765.796 L82.2883 748.435 Z\" fill=\"#000000\" fill-rule=\"evenodd\" fill-opacity=\"1\" /><path clip-path=\"url(#clip930)\" d=\"M 0 0 M108.26 777.116 L113.145 777.116 L113.145 782.995 L108.26 782.995 L108.26 777.116 Z\" fill=\"#000000\" fill-rule=\"evenodd\" fill-opacity=\"1\" /><path clip-path=\"url(#clip930)\" d=\"M 0 0 M128.214 751.514 Q124.603 751.514 122.774 755.079 Q120.969 758.62 120.969 765.75 Q120.969 772.856 122.774 776.421 Q124.603 779.963 128.214 779.963 Q131.848 779.963 133.654 776.421 Q135.482 772.856 135.482 765.75 Q135.482 758.62 133.654 755.079 Q131.848 751.514 128.214 751.514 M128.214 747.81 Q134.024 747.81 137.08 752.417 Q140.158 757 140.158 765.75 Q140.158 774.477 137.08 779.083 Q134.024 783.666 128.214 783.666 Q122.404 783.666 119.325 779.083 Q116.27 774.477 116.27 765.75 Q116.27 757 119.325 752.417 Q122.404 747.81 128.214 747.81 Z\" fill=\"#000000\" fill-rule=\"evenodd\" fill-opacity=\"1\" /><path clip-path=\"url(#clip930)\" d=\"M 0 0 M68.492 478.933 L56.6865 497.382 L68.492 497.382 L68.492 478.933 M67.2652 474.859 L73.1448 474.859 L73.1448 497.382 L78.0753 497.382 L78.0753 501.271 L73.1448 501.271 L73.1448 509.419 L68.492 509.419 L68.492 501.271 L52.8903 501.271 L52.8903 496.757 L67.2652 474.859 Z\" fill=\"#000000\" fill-rule=\"evenodd\" fill-opacity=\"1\" /><path clip-path=\"url(#clip930)\" d=\"M 0 0 M81.9642 474.859 L104.186 474.859 L104.186 476.85 L91.6401 509.419 L86.7558 509.419 L98.5613 478.794 L81.9642 478.794 L81.9642 474.859 Z\" fill=\"#000000\" fill-rule=\"evenodd\" fill-opacity=\"1\" /><path clip-path=\"url(#clip930)\" d=\"M 0 0 M109.256 503.54 L114.14 503.54 L114.14 509.419 L109.256 509.419 L109.256 503.54 Z\" fill=\"#000000\" fill-rule=\"evenodd\" fill-opacity=\"1\" /><path clip-path=\"url(#clip930)\" d=\"M 0 0 M119.256 474.859 L137.612 474.859 L137.612 478.794 L123.538 478.794 L123.538 487.267 Q124.557 486.919 125.575 486.757 Q126.594 486.572 127.612 486.572 Q133.399 486.572 136.779 489.743 Q140.158 492.915 140.158 498.331 Q140.158 503.91 136.686 507.012 Q133.214 510.091 126.894 510.091 Q124.719 510.091 122.45 509.72 Q120.205 509.35 117.797 508.609 L117.797 503.91 Q119.881 505.044 122.103 505.6 Q124.325 506.155 126.802 506.155 Q130.807 506.155 133.144 504.049 Q135.482 501.942 135.482 498.331 Q135.482 494.72 133.144 492.614 Q130.807 490.507 126.802 490.507 Q124.927 490.507 123.052 490.924 Q121.2 491.341 119.256 492.22 L119.256 474.859 Z\" fill=\"#000000\" fill-rule=\"evenodd\" fill-opacity=\"1\" /><path clip-path=\"url(#clip930)\" d=\"M 0 0 M55.2745 201.283 L73.6309 201.283 L73.6309 205.218 L59.5569 205.218 L59.5569 213.691 Q60.5754 213.343 61.5939 213.181 Q62.6124 212.996 63.6309 212.996 Q69.418 212.996 72.7976 216.167 Q76.1772 219.339 76.1772 224.755 Q76.1772 230.334 72.705 233.436 Q69.2328 236.515 62.9134 236.515 Q60.7374 236.515 58.4689 236.144 Q56.2236 235.774 53.8162 235.033 L53.8162 230.334 Q55.8995 231.468 58.1217 232.024 Q60.3439 232.579 62.8208 232.579 Q66.8254 232.579 69.1633 230.473 Q71.5013 228.366 71.5013 224.755 Q71.5013 221.144 69.1633 219.038 Q66.8254 216.931 62.8208 216.931 Q60.9458 216.931 59.0708 217.348 Q57.2189 217.765 55.2745 218.644 L55.2745 201.283 Z\" fill=\"#000000\" fill-rule=\"evenodd\" fill-opacity=\"1\" /><path clip-path=\"url(#clip930)\" d=\"M 0 0 M91.2465 204.362 Q87.6354 204.362 85.8068 207.927 Q84.0012 211.468 84.0012 218.598 Q84.0012 225.704 85.8068 229.269 Q87.6354 232.811 91.2465 232.811 Q94.8808 232.811 96.6863 229.269 Q98.515 225.704 98.515 218.598 Q98.515 211.468 96.6863 207.927 Q94.8808 204.362 91.2465 204.362 M91.2465 200.658 Q97.0567 200.658 100.112 205.265 Q103.191 209.848 103.191 218.598 Q103.191 227.325 100.112 231.931 Q97.0567 236.515 91.2465 236.515 Q85.4364 236.515 82.3577 231.931 Q79.3022 227.325 79.3022 218.598 Q79.3022 209.848 82.3577 205.265 Q85.4364 200.658 91.2465 200.658 Z\" fill=\"#000000\" fill-rule=\"evenodd\" fill-opacity=\"1\" /><path clip-path=\"url(#clip930)\" d=\"M 0 0 M108.26 229.964 L113.145 229.964 L113.145 235.843 L108.26 235.843 L108.26 229.964 Z\" fill=\"#000000\" fill-rule=\"evenodd\" fill-opacity=\"1\" /><path clip-path=\"url(#clip930)\" d=\"M 0 0 M128.214 204.362 Q124.603 204.362 122.774 207.927 Q120.969 211.468 120.969 218.598 Q120.969 225.704 122.774 229.269 Q124.603 232.811 128.214 232.811 Q131.848 232.811 133.654 229.269 Q135.482 225.704 135.482 218.598 Q135.482 211.468 133.654 207.927 Q131.848 204.362 128.214 204.362 M128.214 200.658 Q134.024 200.658 137.08 205.265 Q140.158 209.848 140.158 218.598 Q140.158 227.325 137.08 231.931 Q134.024 236.515 128.214 236.515 Q122.404 236.515 119.325 231.931 Q116.27 227.325 116.27 218.598 Q116.27 209.848 119.325 205.265 Q122.404 200.658 128.214 200.658 Z\" fill=\"#000000\" fill-rule=\"evenodd\" fill-opacity=\"1\" /><circle clip-path=\"url(#clip932)\" cx=\"237.76\" cy=\"1445.72\" r=\"14\" fill=\"#009af9\" fill-rule=\"evenodd\" fill-opacity=\"1\" stroke=\"#000000\" stroke-opacity=\"1\" stroke-width=\"3.2\"/>\n",
       "<circle clip-path=\"url(#clip932)\" cx=\"494.434\" cy=\"1255.14\" r=\"14\" fill=\"#009af9\" fill-rule=\"evenodd\" fill-opacity=\"1\" stroke=\"#000000\" stroke-opacity=\"1\" stroke-width=\"3.2\"/>\n",
       "<circle clip-path=\"url(#clip932)\" cx=\"751.109\" cy=\"998.364\" r=\"14\" fill=\"#009af9\" fill-rule=\"evenodd\" fill-opacity=\"1\" stroke=\"#000000\" stroke-opacity=\"1\" stroke-width=\"3.2\"/>\n",
       "<circle clip-path=\"url(#clip932)\" cx=\"1007.78\" cy=\"786.945\" r=\"14\" fill=\"#009af9\" fill-rule=\"evenodd\" fill-opacity=\"1\" stroke=\"#000000\" stroke-opacity=\"1\" stroke-width=\"3.2\"/>\n",
       "<circle clip-path=\"url(#clip932)\" cx=\"1264.46\" cy=\"946.275\" r=\"14\" fill=\"#009af9\" fill-rule=\"evenodd\" fill-opacity=\"1\" stroke=\"#000000\" stroke-opacity=\"1\" stroke-width=\"3.2\"/>\n",
       "<circle clip-path=\"url(#clip932)\" cx=\"1521.13\" cy=\"1251.04\" r=\"14\" fill=\"#009af9\" fill-rule=\"evenodd\" fill-opacity=\"1\" stroke=\"#000000\" stroke-opacity=\"1\" stroke-width=\"3.2\"/>\n",
       "<circle clip-path=\"url(#clip932)\" cx=\"1777.81\" cy=\"1125.96\" r=\"14\" fill=\"#009af9\" fill-rule=\"evenodd\" fill-opacity=\"1\" stroke=\"#000000\" stroke-opacity=\"1\" stroke-width=\"3.2\"/>\n",
       "<circle clip-path=\"url(#clip932)\" cx=\"2034.48\" cy=\"611.145\" r=\"14\" fill=\"#009af9\" fill-rule=\"evenodd\" fill-opacity=\"1\" stroke=\"#000000\" stroke-opacity=\"1\" stroke-width=\"3.2\"/>\n",
       "<circle clip-path=\"url(#clip932)\" cx=\"2291.15\" cy=\"87.9763\" r=\"14\" fill=\"#009af9\" fill-rule=\"evenodd\" fill-opacity=\"1\" stroke=\"#000000\" stroke-opacity=\"1\" stroke-width=\"3.2\"/>\n",
       "</svg>\n"
      ]
     },
     "execution_count": 92,
     "metadata": {},
     "output_type": "execute_result"
    }
   ],
   "source": [
    "scatter(0.1:0.05:0.5, [a |> q->sum(q)/length(q) for a in x], lw = 2, grid = true, legend = false)"
   ]
  },
  {
   "cell_type": "code",
   "execution_count": null,
   "metadata": {},
   "outputs": [],
   "source": []
  }
 ],
 "metadata": {
  "kernelspec": {
   "display_name": "Julia 1.4.2",
   "language": "julia",
   "name": "julia-1.4"
  },
  "language_info": {
   "file_extension": ".jl",
   "mimetype": "application/julia",
   "name": "julia",
   "version": "1.4.2"
  }
 },
 "nbformat": 4,
 "nbformat_minor": 4
}
