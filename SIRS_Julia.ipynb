{
 "cells": [
  {
   "cell_type": "code",
   "execution_count": null,
   "metadata": {},
   "outputs": [
    {
     "name": "stdout",
     "output_type": "stream",
     "text": [
      " 34.496348 seconds (25.97 M allocations: 1.369 GiB, 2.78% gc time)\n"
     ]
    },
    {
     "name": "stderr",
     "output_type": "stream",
     "text": [
      "┌ Info: Precompiling Images [916415d5-f1e6-5110-898d-aaa5f9f070e0]\n",
      "└ @ Base loading.jl:1260\n"
     ]
    }
   ],
   "source": [
    "@time using Plots\n",
    "@time using Images\n",
    "@time using ColorSchemes"
   ]
  },
  {
   "cell_type": "markdown",
   "metadata": {},
   "source": [
    "## Auxilliary subroutines for SIR simulation"
   ]
  },
  {
   "cell_type": "code",
   "execution_count": 2,
   "metadata": {
    "scrolled": true
   },
   "outputs": [
    {
     "data": {
      "text/plain": [
       "neighbourIndices (generic function with 1 method)"
      ]
     },
     "execution_count": 2,
     "metadata": {},
     "output_type": "execute_result"
    }
   ],
   "source": [
    "function neighbourIndices(nType::Int64, rad::Int64)\n",
    "    indices = []\n",
    "    if(nType == 0)\n",
    "        indices = vcat([[i, 0] for i in -rad:rad], [[0, j] for j in -rad:rad])\n",
    "    elseif(nType == 1)\n",
    "        indices = [[i, j] for i in -rad:rad for j in -rad:rad]\n",
    "    elseif(nType == 2)\n",
    "        indices = [[i, j] for j in -rad:rad for i in (abs(j) - rad):(rad - abs(j))]\n",
    "    end\n",
    "    \n",
    "    indices = [CartesianIndex(ind...) for ind in setdiff(indices, [[0,0]])]\n",
    "end\n"
   ]
  },
  {
   "cell_type": "markdown",
   "metadata": {},
   "source": [
    "## Initial Conditions"
   ]
  },
  {
   "cell_type": "code",
   "execution_count": 3,
   "metadata": {},
   "outputs": [
    {
     "data": {
      "text/plain": [
       "setInitConditions (generic function with 1 method)"
      ]
     },
     "execution_count": 3,
     "metadata": {},
     "output_type": "execute_result"
    }
   ],
   "source": [
    "function setInitConditions(grid, init, tauI, tauR, indices)\n",
    "    if(init[1] == \"random\")\n",
    "        for index in indices\n",
    "            if(rand() < init[2])\n",
    "                grid[index] = tauI+1\n",
    "            end\n",
    "        end\n",
    "        grid[init[3], init[4]] = 1\n",
    "    \n",
    "    elseif(init[1] == \"assorted\")\n",
    "        for index in indices\n",
    "            if(rand() < init[2])\n",
    "                grid[index] = 1\n",
    "            elseif(rand() < init[3])\n",
    "                grid[index] = tauI+1\n",
    "            end\n",
    "        end\n",
    "        \n",
    "    elseif(init[1] == \"single\")\n",
    "        grid[init[2], init[3]] = 1\n",
    "        \n",
    "    elseif(init[1] == \"corners\")\n",
    "        grid[rad + 2, rad + 2] = 1\n",
    "        grid[rad + 2, n - rad - 2] = 1\n",
    "        grid[n - rad - 2, rad + 2] = 1\n",
    "        grid[n - rad - 2, n - rad - 2]  = 1\n",
    "         \n",
    "    elseif(init[1] == \"custom\")\n",
    "        grid[init[2], init[3]] = 1\n",
    "        grid[init[4], init[5]] = tauI + 1\n",
    "    end\n",
    "    \n",
    "    return\n",
    "end"
   ]
  },
  {
   "cell_type": "markdown",
   "metadata": {},
   "source": [
    "## Core simulation code"
   ]
  },
  {
   "cell_type": "code",
   "execution_count": 3,
   "metadata": {},
   "outputs": [
    {
     "ename": "LoadError",
     "evalue": "UndefVarError: @animate not defined",
     "output_type": "error",
     "traceback": [
      "UndefVarError: @animate not defined",
      ""
     ]
    }
   ],
   "source": [
    "function SIRSmodel(n::Int64, tauI::Int64, tauR::Int64, nType::Int64, rad::Int64, nsteps::Int64, anim::Bool, colbar::Bool, fname, init)\n",
    "    grid = zeros(Int64, (n, n)) #2D grid\n",
    "    nData = zeros(Int64, (nsteps, 3)) #S,I,R count\n",
    "    frames = [] #to store grid for display\n",
    "    \n",
    "    infp = 0 #infection probability\n",
    "    tau0 = tauR + tauI #complete disease cycle \n",
    "    relNeighbour = neighbourIndices(nType, rad) #relative index of neighbours\n",
    "    isInfected(x) = 1 <= x <= tauI #infected check\n",
    "    indices = [CartesianIndex(i,j) for i in (rad+1):(n-rad) for j in (rad+1):(n-rad)]\n",
    "\n",
    "    #initial conditions\n",
    "    setInitConditions(grid, init, tauI, tauR, indices)\n",
    "    \n",
    "    #boundary conditions; fixed\n",
    "    grid[1:rad, :] .= tauI + 1\n",
    "    grid[(n-rad+1):n, :] .= tauI + 1\n",
    "    grid[:, 1:rad] .= tauI + 1\n",
    "    grid[:, (n-rad+1):n] .= tauI + 1   \n",
    "    \n",
    "    prev = copy(grid) #copy of the grid\n",
    "    push!(frames, copy(grid))\n",
    "    \n",
    "    #initial count\n",
    "    nData[1, 1] = count(x -> x==0, grid)\n",
    "    nData[1, 2] = count(x -> 1 <= x <= tauI, grid)\n",
    "    nData[1, 3] = count(x -> tauI < x <= tau0, grid)\n",
    "    \n",
    "    for k in 2:nsteps\n",
    "        nData[k, :] = nData[k-1, :]\n",
    "        \n",
    "        for index in indices\n",
    "            if(prev[index] == 0) #susceptible\n",
    "                infp = count(isInfected.(prev[relNeighbour .|> x-> index+x]))/length(relNeighbour)\n",
    "                \n",
    "                if(0<infp) #infection\n",
    "                    grid[index] += 1\n",
    "                    nData[k, 1] -= 1\n",
    "                    nData[k, 2] += 1\n",
    "                end\n",
    "                \n",
    "            elseif(prev[index] < tau0) #infected/refractory\n",
    "                grid[index] += 1\n",
    "                \n",
    "                if(grid[index] == tauI + 1) #transition to R\n",
    "                    nData[k, 2] -= 1\n",
    "                    nData[k, 3] += 1\n",
    "                end\n",
    "            \n",
    "            elseif(prev[index] == tau0) #transition to S\n",
    "                grid[index] = 0\n",
    "                nData[k, 3] -= 1\n",
    "                nData[k, 1] += 1\n",
    "            end\n",
    "        end\n",
    "        \n",
    "        prev = copy(grid)\n",
    "        push!(frames, copy(grid))\n",
    "    end\n",
    "    \n",
    "    #color gradient\n",
    "    colors = vcat([RGB{N0f8}(0, 0, 0)], range(RGB{N0f8}(0.5,0.0,0.0), stop=RGB{N0f8}(0.862,0,0), length= tauI),range(RGB{N0f8}(1,0.458,0.0), stop=RGB{N0f8}(1, 1, 0.196), length=tauR))\n",
    "    \n",
    "    if(colbar) #with colorbar\n",
    "        animGIF = @animate for i = 1:nsteps \n",
    "            heatmap(frames[i], c = palette(colors, tau0+1), clim = (0, tau0))\n",
    "        end\n",
    "        \n",
    "    else #without colorbar\n",
    "        cmap = Dict(zip(0:tau0+1, colors))\n",
    "        animGIF = @animate for i = 1:nsteps \n",
    "            plot([cmap[p] for p in frames[i]])\n",
    "        end\n",
    "    end\n",
    "        \n",
    "    gif(animGIF, fname, fps = 15)\n",
    "    \n",
    "    return nData\n",
    "end     \n",
    "    "
   ]
  },
  {
   "cell_type": "code",
   "execution_count": 14,
   "metadata": {
    "scrolled": true
   },
   "outputs": [
    {
     "name": "stdout",
     "output_type": "stream",
     "text": [
      " 27.714433 seconds (128.08 M allocations: 7.329 GiB, 4.88% gc time)\n"
     ]
    },
    {
     "name": "stderr",
     "output_type": "stream",
     "text": [
      "┌ Info: Saved animation to \n",
      "│   fn = /home/akshay/code-repo/ComplexSystems/outputs/1SIRS3.gif\n",
      "└ @ Plots /home/akshay/.julia/packages/Plots/uCh2y/src/animation.jl:104\n"
     ]
    }
   ],
   "source": [
    "#function SIRSmodel(n, tauI, tauR, nType, rad, nsteps, anim, colorbar, init)\n",
    "nsteps = 100\n",
    "s = 200\n",
    "num = 3\n",
    "@time data = SIRSmodel(s, 5, 10, 1, num, nsteps, true, true, \"outputs/1SIRS\"*string(num)*\".gif\", [\"single\", s÷2, s÷2])\n",
    "x = 1:nsteps\n",
    "plot(x, data, label = [\"Susceptible\" \"Infected\" \"Refractory\"], lw = 2, grid = true)\n",
    "savefig(\"outputs/plot1\"*string(num)*\".png\")"
   ]
  },
  {
   "cell_type": "markdown",
   "metadata": {},
   "source": [
    "## Collect data version"
   ]
  },
  {
   "cell_type": "code",
   "execution_count": 4,
   "metadata": {},
   "outputs": [
    {
     "data": {
      "text/plain": [
       "SIRSmodelCollect (generic function with 1 method)"
      ]
     },
     "execution_count": 4,
     "metadata": {},
     "output_type": "execute_result"
    }
   ],
   "source": [
    "function SIRSmodelCollect(n::Int64, tauI::Int64, tauR::Int64, pImmune::Float64, nType::Int64, rad::Int64, nsteps::Int64, anim::Bool, colbar::Bool, fname, init)\n",
    "    grid = zeros(Int64, (n + 2*rad, n + 2*rad)) #2D grid\n",
    "    nData = zeros(Int64, (nsteps, 4)) #S,I,R count\n",
    "    frames = [] #to store grid for display\n",
    "    nTime = 1 #notes number of time steps passed\n",
    "    \n",
    "    infp = 0 #infection probability\n",
    "    tau0 = tauR + tauI #complete disease cycle \n",
    "    isInfected(x) = 1 <= x <= tauI #infected check\n",
    "    \n",
    "    relNeighbour = neighbourIndices(nType, rad) #relative index of neighbours\n",
    "    indices = [CartesianIndex(i,j) for i in (rad+1):(n+rad) for j in (rad+1):(n+rad)]\n",
    "    \n",
    "    #initial conditions\n",
    "    setInitConditions(grid, init, tauI, tauR, indices)\n",
    "    \n",
    "    #boundary conditions; fixed\n",
    "    grid[1:rad, :] .= tauI + 1\n",
    "    grid[(n+rad+1):(n+2*rad), :] .= tauI + 1\n",
    "    grid[:, 1:rad] .= tauI + 1\n",
    "    grid[:, (n+rad+1):(n+2*rad)] .= tauI + 1   \n",
    "    \n",
    "    prev = copy(grid) #copy of the grid\n",
    "    push!(frames, copy(grid))\n",
    "    \n",
    "    #initial count\n",
    "    nData[1, 1] = count(x -> x==0, grid)\n",
    "    nData[1, 2] = count(x -> 1 <= x <= tauI, grid[indices])\n",
    "    nData[1, 3] = count(x -> tauI < x <= tau0, grid[indices])\n",
    "    nData[1, 4] = count(x -> tau0 < x, grid[indices])\n",
    "    \n",
    "    for k in 2:nsteps\n",
    "        nData[k, :] = nData[k-1, :]\n",
    "        \n",
    "        for index in indices\n",
    "            if(prev[index] == 0) #susceptible\n",
    "                infp = count(isInfected.(prev[relNeighbour .|> x-> index+x]))/length(relNeighbour)\n",
    "                \n",
    "                if(rand()<infp) #infection\n",
    "                    grid[index] += 1\n",
    "                    nData[k, 1] -= 1\n",
    "                    nData[k, 2] += 1\n",
    "                end\n",
    "                \n",
    "            elseif(prev[index] < tau0) #infected/refractory\n",
    "                grid[index] += 1\n",
    "                \n",
    "                if(grid[index] == tauI + 1) #transition to R\n",
    "                    nData[k, 2] -= 1\n",
    "                    nData[k, 3] += 1\n",
    "                end\n",
    "            \n",
    "            elseif(prev[index] == tau0) #transition to S\n",
    "                nData[k, 3] -= 1\n",
    "                \n",
    "                if(rand() < pImmune)\n",
    "                    grid[index] += 1\n",
    "                    nData[k, 4] += 1\n",
    "                else \n",
    "                    grid[index] = 0\n",
    "                    nData[k, 1] += 1\n",
    "                end\n",
    "                    \n",
    "            end\n",
    "        end\n",
    "        \n",
    "        nTime += 1\n",
    "        prev = copy(grid)\n",
    "        push!(frames, copy(grid))\n",
    "        \n",
    "        if(nData[k, 2] == 0 && nData[k, 3] == 0) break end\n",
    "        \n",
    "    end\n",
    "    \n",
    "    #color gradient\n",
    "    colors = vcat([RGB{N0f8}(0, 0, 0)], range(RGB{N0f8}(0.5,0.0,0.0), stop=RGB{N0f8}(0.862,0,0), length= tauI),range(RGB{N0f8}(1,0.458,0.0), stop=RGB{N0f8}(1, 1, 0.196), length=tauR), [RGB{N0f8}(0.411,0.411,0.411)])\n",
    "    \n",
    "    if(colbar && anim) #with colorbar\n",
    "        animGIF = @animate for i = 1:nTime \n",
    "            heatmap(frames[i], c = palette(colors, tau0+1), clim = (0, tau0))\n",
    "        end\n",
    "        gif(animGIF, fname, fps = 15)\n",
    "        \n",
    "    elseif(anim) #without colorbar\n",
    "        cmap = Dict(zip(0:tau0+1, colors))\n",
    "        animGIF = @animate for i = 1:nTime\n",
    "            plot([cmap[p] for p in frames[i]])\n",
    "        end\n",
    "        gif(animGIF, fname, fps = 15)\n",
    "    end\n",
    "    \n",
    "    nData[nTime+1:end, 1] .= nData[nTime, 1]\n",
    "    nData[nTime+1:end, 4] .= nData[nTime, 4]\n",
    "    \n",
    "    return [nData, nTime]\n",
    "end     "
   ]
  },
  {
   "cell_type": "code",
   "execution_count": 29,
   "metadata": {
    "scrolled": true
   },
   "outputs": [
    {
     "name": "stdout",
     "output_type": "stream",
     "text": [
      " 36.970259 seconds (96.63 M allocations: 7.208 GiB, 5.52% gc time)\n"
     ]
    },
    {
     "name": "stderr",
     "output_type": "stream",
     "text": [
      "┌ Info: Saved animation to \n",
      "│   fn = /home/akshay/code-repo/ComplexSystems/outputs/1SIRS2.gif\n",
      "└ @ Plots /home/akshay/.julia/packages/Plots/uCh2y/src/animation.jl:104\n"
     ]
    }
   ],
   "source": [
    "#function SIRSmodel(n, tauI, tauR, nType, rad, nsteps, anim, colorbar, init)\n",
    "nsteps = 300\n",
    "s = 200\n",
    "num = 2\n",
    "@time data, nn = SIRSmodelCollect(s, 5, 10, 0.1, 1, num, nsteps, true, false, \"outputs/1SIRS\"*string(num)*\".gif\", [\"single\", s÷2, s÷2])\n",
    "x = 1:nsteps\n",
    "plot(x, data, label = [\"Susceptible\" \"Infected\" \"Refractory\"], lw = 2, grid = true)\n",
    "savefig(\"outputs/plot1\"*string(num)*\".png\")"
   ]
  },
  {
   "cell_type": "markdown",
   "metadata": {},
   "source": [
    "## Analysis code"
   ]
  },
  {
   "cell_type": "code",
   "execution_count": 5,
   "metadata": {
    "scrolled": false
   },
   "outputs": [
    {
     "name": "stdout",
     "output_type": "stream",
     "text": [
      " 55.263190 seconds (196.84 M allocations: 14.368 GiB, 5.18% gc time)\n",
      " 23.399043 seconds (143.62 M allocations: 11.068 GiB, 7.32% gc time)\n",
      " 20.630530 seconds (124.52 M allocations: 9.586 GiB, 8.01% gc time)\n",
      " 17.835924 seconds (116.50 M allocations: 8.950 GiB, 7.02% gc time)\n",
      " 19.518312 seconds (110.68 M allocations: 8.501 GiB, 7.31% gc time)\n",
      " 19.662778 seconds (117.48 M allocations: 9.020 GiB, 8.19% gc time)\n",
      " 19.491966 seconds (113.52 M allocations: 8.713 GiB, 7.25% gc time)\n",
      " 18.311775 seconds (93.96 M allocations: 7.212 GiB, 7.66% gc time)\n",
      " 13.261783 seconds (78.26 M allocations: 5.989 GiB, 7.97% gc time)\n",
      " 17.701469 seconds (109.62 M allocations: 8.404 GiB, 6.97% gc time)\n",
      " 13.278202 seconds (83.36 M allocations: 6.372 GiB, 7.73% gc time)\n",
      " 10.321395 seconds (72.78 M allocations: 5.560 GiB, 5.84% gc time)\n",
      " 11.049046 seconds (66.53 M allocations: 5.080 GiB, 7.77% gc time)\n",
      "  8.948119 seconds (53.71 M allocations: 4.102 GiB, 6.27% gc time)\n",
      "  9.595409 seconds (62.80 M allocations: 4.802 GiB, 7.52% gc time)\n",
      " 10.001918 seconds (61.93 M allocations: 4.740 GiB, 8.00% gc time)\n",
      "  8.702135 seconds (57.81 M allocations: 4.432 GiB, 6.16% gc time)\n",
      "  6.547502 seconds (46.09 M allocations: 3.536 GiB, 8.44% gc time)\n",
      "  8.462525 seconds (54.77 M allocations: 4.206 GiB, 8.40% gc time)\n"
     ]
    }
   ],
   "source": [
    "#function SIRSmodel(n, tauI, tauR, nType, rad, nsteps, anim, colorbar, init)\n",
    "nsteps = 600\n",
    "s = 100\n",
    "num = 2 #radius\n",
    "ntype = 1\n",
    "taui = 5\n",
    "taur = 10\n",
    "pimmune = 0.1\n",
    "xAx = 1:nsteps\n",
    "listtt = []\n",
    "final = []\n",
    "for ll in 0.1:0.05:1.0\n",
    "    listtt = []\n",
    "    pimmune = ll\n",
    "    \n",
    "    @time for l in 1:5\n",
    "        data, nT = SIRSmodelCollect(s, taui, taur, pimmune, ntype, num, nsteps, false, false, \"outputs2/\"*string(taui)*\"+\"*string(taur)*\"_SIRS_\"*string(ntype)*\"_\"*string(num)*\"->\"*string(pimmune)*\"%.gif\", [\"single\", s-2 + num, s-2 + num])\n",
    "        plot(xAx, data ./ s^2, label = [\"Susceptible\" \"Infected\" \"Refractory\" \"Immune\"], lw = 2, grid = true)\n",
    "        savefig(\"outputs2/\"*string(taui)*\"+\"*string(taur)*\"_plot_\"*string(ntype)*\"_\"*string(num)*\"->\"*string(pimmune)*\"%.png\")\n",
    "        if(data[nsteps,4] > 0) push!(listtt, data[nsteps,4]/s^2 *100) end\n",
    "    end\n",
    "    push!(final, listtt)\n",
    "end"
   ]
  },
  {
   "cell_type": "code",
   "execution_count": 6,
   "metadata": {},
   "outputs": [],
   "source": [
    "using Statistics"
   ]
  },
  {
   "cell_type": "code",
   "execution_count": 10,
   "metadata": {},
   "outputs": [
    {
     "data": {
      "image/svg+xml": [
       "<?xml version=\"1.0\" encoding=\"utf-8\"?>\n",
       "<svg xmlns=\"http://www.w3.org/2000/svg\" xmlns:xlink=\"http://www.w3.org/1999/xlink\" width=\"600\" height=\"400\" viewBox=\"0 0 2400 1600\">\n",
       "<defs>\n",
       "  <clipPath id=\"clip390\">\n",
       "    <rect x=\"0\" y=\"0\" width=\"2400\" height=\"1600\"/>\n",
       "  </clipPath>\n",
       "</defs>\n",
       "<path clip-path=\"url(#clip390)\" d=\"\n",
       "M0 1600 L2400 1600 L2400 0 L0 0  Z\n",
       "  \" fill=\"#ffffff\" fill-rule=\"evenodd\" fill-opacity=\"1\"/>\n",
       "<defs>\n",
       "  <clipPath id=\"clip391\">\n",
       "    <rect x=\"480\" y=\"0\" width=\"1681\" height=\"1600\"/>\n",
       "  </clipPath>\n",
       "</defs>\n",
       "<path clip-path=\"url(#clip390)\" d=\"\n",
       "M112.177 1486.45 L2352.76 1486.45 L2352.76 47.2441 L112.177 47.2441  Z\n",
       "  \" fill=\"#ffffff\" fill-rule=\"evenodd\" fill-opacity=\"1\"/>\n",
       "<defs>\n",
       "  <clipPath id=\"clip392\">\n",
       "    <rect x=\"112\" y=\"47\" width=\"2242\" height=\"1440\"/>\n",
       "  </clipPath>\n",
       "</defs>\n",
       "<polyline clip-path=\"url(#clip392)\" style=\"stroke:#000000; stroke-width:2; stroke-opacity:0.1; fill:none\" points=\"\n",
       "  410.451,1486.45 410.451,47.2441 \n",
       "  \"/>\n",
       "<polyline clip-path=\"url(#clip392)\" style=\"stroke:#000000; stroke-width:2; stroke-opacity:0.1; fill:none\" points=\"\n",
       "  880.174,1486.45 880.174,47.2441 \n",
       "  \"/>\n",
       "<polyline clip-path=\"url(#clip392)\" style=\"stroke:#000000; stroke-width:2; stroke-opacity:0.1; fill:none\" points=\"\n",
       "  1349.9,1486.45 1349.9,47.2441 \n",
       "  \"/>\n",
       "<polyline clip-path=\"url(#clip392)\" style=\"stroke:#000000; stroke-width:2; stroke-opacity:0.1; fill:none\" points=\"\n",
       "  1819.62,1486.45 1819.62,47.2441 \n",
       "  \"/>\n",
       "<polyline clip-path=\"url(#clip392)\" style=\"stroke:#000000; stroke-width:2; stroke-opacity:0.1; fill:none\" points=\"\n",
       "  2289.34,1486.45 2289.34,47.2441 \n",
       "  \"/>\n",
       "<polyline clip-path=\"url(#clip390)\" style=\"stroke:#000000; stroke-width:4; stroke-opacity:1; fill:none\" points=\"\n",
       "  112.177,1486.45 2352.76,1486.45 \n",
       "  \"/>\n",
       "<polyline clip-path=\"url(#clip390)\" style=\"stroke:#000000; stroke-width:4; stroke-opacity:1; fill:none\" points=\"\n",
       "  410.451,1486.45 410.451,1469.18 \n",
       "  \"/>\n",
       "<polyline clip-path=\"url(#clip390)\" style=\"stroke:#000000; stroke-width:4; stroke-opacity:1; fill:none\" points=\"\n",
       "  880.174,1486.45 880.174,1469.18 \n",
       "  \"/>\n",
       "<polyline clip-path=\"url(#clip390)\" style=\"stroke:#000000; stroke-width:4; stroke-opacity:1; fill:none\" points=\"\n",
       "  1349.9,1486.45 1349.9,1469.18 \n",
       "  \"/>\n",
       "<polyline clip-path=\"url(#clip390)\" style=\"stroke:#000000; stroke-width:4; stroke-opacity:1; fill:none\" points=\"\n",
       "  1819.62,1486.45 1819.62,1469.18 \n",
       "  \"/>\n",
       "<polyline clip-path=\"url(#clip390)\" style=\"stroke:#000000; stroke-width:4; stroke-opacity:1; fill:none\" points=\"\n",
       "  2289.34,1486.45 2289.34,1469.18 \n",
       "  \"/>\n",
       "<path clip-path=\"url(#clip390)\" d=\"M 0 0 M392.766 1515.64 Q389.155 1515.64 387.326 1519.2 Q385.521 1522.75 385.521 1529.87 Q385.521 1536.98 387.326 1540.55 Q389.155 1544.09 392.766 1544.09 Q396.4 1544.09 398.206 1540.55 Q400.035 1536.98 400.035 1529.87 Q400.035 1522.75 398.206 1519.2 Q396.4 1515.64 392.766 1515.64 M392.766 1511.93 Q398.576 1511.93 401.632 1516.54 Q404.711 1521.12 404.711 1529.87 Q404.711 1538.6 401.632 1543.21 Q398.576 1547.79 392.766 1547.79 Q386.956 1547.79 383.877 1543.21 Q380.822 1538.6 380.822 1529.87 Q380.822 1521.12 383.877 1516.54 Q386.956 1511.93 392.766 1511.93 Z\" fill=\"#000000\" fill-rule=\"evenodd\" fill-opacity=\"1\" /><path clip-path=\"url(#clip390)\" d=\"M 0 0 M409.78 1541.24 L414.664 1541.24 L414.664 1547.12 L409.78 1547.12 L409.78 1541.24 Z\" fill=\"#000000\" fill-rule=\"evenodd\" fill-opacity=\"1\" /><path clip-path=\"url(#clip390)\" d=\"M 0 0 M423.761 1543.18 L440.081 1543.18 L440.081 1547.12 L418.136 1547.12 L418.136 1543.18 Q420.798 1540.43 425.382 1535.8 Q429.988 1531.15 431.169 1529.81 Q433.414 1527.28 434.294 1525.55 Q435.197 1523.79 435.197 1522.1 Q435.197 1519.34 433.252 1517.61 Q431.331 1515.87 428.229 1515.87 Q426.03 1515.87 423.576 1516.63 Q421.146 1517.4 418.368 1518.95 L418.368 1514.23 Q421.192 1513.09 423.646 1512.51 Q426.099 1511.93 428.136 1511.93 Q433.507 1511.93 436.701 1514.62 Q439.896 1517.31 439.896 1521.8 Q439.896 1523.93 439.085 1525.85 Q438.298 1527.74 436.192 1530.34 Q435.613 1531.01 432.511 1534.23 Q429.41 1537.42 423.761 1543.18 Z\" fill=\"#000000\" fill-rule=\"evenodd\" fill-opacity=\"1\" /><path clip-path=\"url(#clip390)\" d=\"M 0 0 M861.448 1515.64 Q857.836 1515.64 856.008 1519.2 Q854.202 1522.75 854.202 1529.87 Q854.202 1536.98 856.008 1540.55 Q857.836 1544.09 861.448 1544.09 Q865.082 1544.09 866.887 1540.55 Q868.716 1536.98 868.716 1529.87 Q868.716 1522.75 866.887 1519.2 Q865.082 1515.64 861.448 1515.64 M861.448 1511.93 Q867.258 1511.93 870.313 1516.54 Q873.392 1521.12 873.392 1529.87 Q873.392 1538.6 870.313 1543.21 Q867.258 1547.79 861.448 1547.79 Q855.637 1547.79 852.559 1543.21 Q849.503 1538.6 849.503 1529.87 Q849.503 1521.12 852.559 1516.54 Q855.637 1511.93 861.448 1511.93 Z\" fill=\"#000000\" fill-rule=\"evenodd\" fill-opacity=\"1\" /><path clip-path=\"url(#clip390)\" d=\"M 0 0 M878.461 1541.24 L883.346 1541.24 L883.346 1547.12 L878.461 1547.12 L878.461 1541.24 Z\" fill=\"#000000\" fill-rule=\"evenodd\" fill-opacity=\"1\" /><path clip-path=\"url(#clip390)\" d=\"M 0 0 M901.262 1516.63 L889.457 1535.08 L901.262 1535.08 L901.262 1516.63 M900.035 1512.56 L905.915 1512.56 L905.915 1535.08 L910.845 1535.08 L910.845 1538.97 L905.915 1538.97 L905.915 1547.12 L901.262 1547.12 L901.262 1538.97 L885.66 1538.97 L885.66 1534.46 L900.035 1512.56 Z\" fill=\"#000000\" fill-rule=\"evenodd\" fill-opacity=\"1\" /><path clip-path=\"url(#clip390)\" d=\"M 0 0 M1331.33 1515.64 Q1327.72 1515.64 1325.89 1519.2 Q1324.09 1522.75 1324.09 1529.87 Q1324.09 1536.98 1325.89 1540.55 Q1327.72 1544.09 1331.33 1544.09 Q1334.97 1544.09 1336.77 1540.55 Q1338.6 1536.98 1338.6 1529.87 Q1338.6 1522.75 1336.77 1519.2 Q1334.97 1515.64 1331.33 1515.64 M1331.33 1511.93 Q1337.14 1511.93 1340.2 1516.54 Q1343.28 1521.12 1343.28 1529.87 Q1343.28 1538.6 1340.2 1543.21 Q1337.14 1547.79 1331.33 1547.79 Q1325.52 1547.79 1322.44 1543.21 Q1319.39 1538.6 1319.39 1529.87 Q1319.39 1521.12 1322.44 1516.54 Q1325.52 1511.93 1331.33 1511.93 Z\" fill=\"#000000\" fill-rule=\"evenodd\" fill-opacity=\"1\" /><path clip-path=\"url(#clip390)\" d=\"M 0 0 M1348.35 1541.24 L1353.23 1541.24 L1353.23 1547.12 L1348.35 1547.12 L1348.35 1541.24 Z\" fill=\"#000000\" fill-rule=\"evenodd\" fill-opacity=\"1\" /><path clip-path=\"url(#clip390)\" d=\"M 0 0 M1368.88 1527.98 Q1365.73 1527.98 1363.88 1530.13 Q1362.05 1532.28 1362.05 1536.03 Q1362.05 1539.76 1363.88 1541.93 Q1365.73 1544.09 1368.88 1544.09 Q1372.03 1544.09 1373.86 1541.93 Q1375.71 1539.76 1375.71 1536.03 Q1375.71 1532.28 1373.86 1530.13 Q1372.03 1527.98 1368.88 1527.98 M1378.16 1513.32 L1378.16 1517.58 Q1376.4 1516.75 1374.6 1516.31 Q1372.81 1515.87 1371.05 1515.87 Q1366.42 1515.87 1363.97 1519 Q1361.54 1522.12 1361.19 1528.44 Q1362.56 1526.43 1364.62 1525.36 Q1366.68 1524.27 1369.16 1524.27 Q1374.36 1524.27 1377.37 1527.44 Q1380.41 1530.59 1380.41 1536.03 Q1380.41 1541.36 1377.26 1544.57 Q1374.11 1547.79 1368.88 1547.79 Q1362.88 1547.79 1359.71 1543.21 Q1356.54 1538.6 1356.54 1529.87 Q1356.54 1521.68 1360.43 1516.82 Q1364.32 1511.93 1370.87 1511.93 Q1372.63 1511.93 1374.41 1512.28 Q1376.22 1512.63 1378.16 1513.32 Z\" fill=\"#000000\" fill-rule=\"evenodd\" fill-opacity=\"1\" /><path clip-path=\"url(#clip390)\" d=\"M 0 0 M1801.18 1515.64 Q1797.57 1515.64 1795.74 1519.2 Q1793.94 1522.75 1793.94 1529.87 Q1793.94 1536.98 1795.74 1540.55 Q1797.57 1544.09 1801.18 1544.09 Q1804.82 1544.09 1806.62 1540.55 Q1808.45 1536.98 1808.45 1529.87 Q1808.45 1522.75 1806.62 1519.2 Q1804.82 1515.64 1801.18 1515.64 M1801.18 1511.93 Q1806.99 1511.93 1810.05 1516.54 Q1813.13 1521.12 1813.13 1529.87 Q1813.13 1538.6 1810.05 1543.21 Q1806.99 1547.79 1801.18 1547.79 Q1795.37 1547.79 1792.29 1543.21 Q1789.24 1538.6 1789.24 1529.87 Q1789.24 1521.12 1792.29 1516.54 Q1795.37 1511.93 1801.18 1511.93 Z\" fill=\"#000000\" fill-rule=\"evenodd\" fill-opacity=\"1\" /><path clip-path=\"url(#clip390)\" d=\"M 0 0 M1818.2 1541.24 L1823.08 1541.24 L1823.08 1547.12 L1818.2 1547.12 L1818.2 1541.24 Z\" fill=\"#000000\" fill-rule=\"evenodd\" fill-opacity=\"1\" /><path clip-path=\"url(#clip390)\" d=\"M 0 0 M1838.15 1530.71 Q1834.82 1530.71 1832.9 1532.49 Q1831 1534.27 1831 1537.4 Q1831 1540.52 1832.9 1542.31 Q1834.82 1544.09 1838.15 1544.09 Q1841.48 1544.09 1843.4 1542.31 Q1845.33 1540.5 1845.33 1537.4 Q1845.33 1534.27 1843.4 1532.49 Q1841.51 1530.71 1838.15 1530.71 M1833.47 1528.72 Q1830.47 1527.98 1828.78 1525.92 Q1827.11 1523.86 1827.11 1520.89 Q1827.11 1516.75 1830.05 1514.34 Q1833.01 1511.93 1838.15 1511.93 Q1843.31 1511.93 1846.25 1514.34 Q1849.19 1516.75 1849.19 1520.89 Q1849.19 1523.86 1847.5 1525.92 Q1845.84 1527.98 1842.85 1528.72 Q1846.23 1529.5 1848.1 1531.8 Q1850 1534.09 1850 1537.4 Q1850 1542.42 1846.92 1545.11 Q1843.87 1547.79 1838.15 1547.79 Q1832.43 1547.79 1829.35 1545.11 Q1826.3 1542.42 1826.3 1537.4 Q1826.3 1534.09 1828.2 1531.8 Q1830.09 1529.5 1833.47 1528.72 M1831.76 1521.33 Q1831.76 1524.02 1833.43 1525.52 Q1835.12 1527.03 1838.15 1527.03 Q1841.16 1527.03 1842.85 1525.52 Q1844.56 1524.02 1844.56 1521.33 Q1844.56 1518.65 1842.85 1517.14 Q1841.16 1515.64 1838.15 1515.64 Q1835.12 1515.64 1833.43 1517.14 Q1831.76 1518.65 1831.76 1521.33 Z\" fill=\"#000000\" fill-rule=\"evenodd\" fill-opacity=\"1\" /><path clip-path=\"url(#clip390)\" d=\"M 0 0 M2261.24 1543.18 L2268.88 1543.18 L2268.88 1516.82 L2260.57 1518.49 L2260.57 1514.23 L2268.83 1512.56 L2273.51 1512.56 L2273.51 1543.18 L2281.15 1543.18 L2281.15 1547.12 L2261.24 1547.12 L2261.24 1543.18 Z\" fill=\"#000000\" fill-rule=\"evenodd\" fill-opacity=\"1\" /><path clip-path=\"url(#clip390)\" d=\"M 0 0 M2286.22 1541.24 L2291.1 1541.24 L2291.1 1547.12 L2286.22 1547.12 L2286.22 1541.24 Z\" fill=\"#000000\" fill-rule=\"evenodd\" fill-opacity=\"1\" /><path clip-path=\"url(#clip390)\" d=\"M 0 0 M2306.17 1515.64 Q2302.56 1515.64 2300.73 1519.2 Q2298.93 1522.75 2298.93 1529.87 Q2298.93 1536.98 2300.73 1540.55 Q2302.56 1544.09 2306.17 1544.09 Q2309.81 1544.09 2311.61 1540.55 Q2313.44 1536.98 2313.44 1529.87 Q2313.44 1522.75 2311.61 1519.2 Q2309.81 1515.64 2306.17 1515.64 M2306.17 1511.93 Q2311.98 1511.93 2315.04 1516.54 Q2318.12 1521.12 2318.12 1529.87 Q2318.12 1538.6 2315.04 1543.21 Q2311.98 1547.79 2306.17 1547.79 Q2300.36 1547.79 2297.28 1543.21 Q2294.23 1538.6 2294.23 1529.87 Q2294.23 1521.12 2297.28 1516.54 Q2300.36 1511.93 2306.17 1511.93 Z\" fill=\"#000000\" fill-rule=\"evenodd\" fill-opacity=\"1\" /><polyline clip-path=\"url(#clip392)\" style=\"stroke:#000000; stroke-width:2; stroke-opacity:0.1; fill:none\" points=\"\n",
       "  112.177,1299.17 2352.76,1299.17 \n",
       "  \"/>\n",
       "<polyline clip-path=\"url(#clip392)\" style=\"stroke:#000000; stroke-width:2; stroke-opacity:0.1; fill:none\" points=\"\n",
       "  112.177,1073.49 2352.76,1073.49 \n",
       "  \"/>\n",
       "<polyline clip-path=\"url(#clip392)\" style=\"stroke:#000000; stroke-width:2; stroke-opacity:0.1; fill:none\" points=\"\n",
       "  112.177,847.814 2352.76,847.814 \n",
       "  \"/>\n",
       "<polyline clip-path=\"url(#clip392)\" style=\"stroke:#000000; stroke-width:2; stroke-opacity:0.1; fill:none\" points=\"\n",
       "  112.177,622.137 2352.76,622.137 \n",
       "  \"/>\n",
       "<polyline clip-path=\"url(#clip392)\" style=\"stroke:#000000; stroke-width:2; stroke-opacity:0.1; fill:none\" points=\"\n",
       "  112.177,396.459 2352.76,396.459 \n",
       "  \"/>\n",
       "<polyline clip-path=\"url(#clip392)\" style=\"stroke:#000000; stroke-width:2; stroke-opacity:0.1; fill:none\" points=\"\n",
       "  112.177,170.782 2352.76,170.782 \n",
       "  \"/>\n",
       "<polyline clip-path=\"url(#clip390)\" style=\"stroke:#000000; stroke-width:4; stroke-opacity:1; fill:none\" points=\"\n",
       "  112.177,1486.45 112.177,47.2441 \n",
       "  \"/>\n",
       "<polyline clip-path=\"url(#clip390)\" style=\"stroke:#000000; stroke-width:4; stroke-opacity:1; fill:none\" points=\"\n",
       "  112.177,1299.17 139.064,1299.17 \n",
       "  \"/>\n",
       "<polyline clip-path=\"url(#clip390)\" style=\"stroke:#000000; stroke-width:4; stroke-opacity:1; fill:none\" points=\"\n",
       "  112.177,1073.49 139.064,1073.49 \n",
       "  \"/>\n",
       "<polyline clip-path=\"url(#clip390)\" style=\"stroke:#000000; stroke-width:4; stroke-opacity:1; fill:none\" points=\"\n",
       "  112.177,847.814 139.064,847.814 \n",
       "  \"/>\n",
       "<polyline clip-path=\"url(#clip390)\" style=\"stroke:#000000; stroke-width:4; stroke-opacity:1; fill:none\" points=\"\n",
       "  112.177,622.137 139.064,622.137 \n",
       "  \"/>\n",
       "<polyline clip-path=\"url(#clip390)\" style=\"stroke:#000000; stroke-width:4; stroke-opacity:1; fill:none\" points=\"\n",
       "  112.177,396.459 139.064,396.459 \n",
       "  \"/>\n",
       "<polyline clip-path=\"url(#clip390)\" style=\"stroke:#000000; stroke-width:4; stroke-opacity:1; fill:none\" points=\"\n",
       "  112.177,170.782 139.064,170.782 \n",
       "  \"/>\n",
       "<path clip-path=\"url(#clip390)\" d=\"M 0 0 M56.2699 1312.51 L63.9087 1312.51 L63.9087 1286.15 L55.5986 1287.81 L55.5986 1283.56 L63.8624 1281.89 L68.5383 1281.89 L68.5383 1312.51 L76.1772 1312.51 L76.1772 1316.45 L56.2699 1316.45 L56.2699 1312.51 Z\" fill=\"#000000\" fill-rule=\"evenodd\" fill-opacity=\"1\" /><path clip-path=\"url(#clip390)\" d=\"M 0 0 M59.8578 1086.84 L76.1772 1086.84 L76.1772 1090.77 L54.2328 1090.77 L54.2328 1086.84 Q56.8949 1084.08 61.4782 1079.45 Q66.0846 1074.8 67.2652 1073.46 Q69.5105 1070.93 70.3902 1069.2 Q71.2929 1067.44 71.2929 1065.75 Q71.2929 1062.99 69.3485 1061.26 Q67.4272 1059.52 64.3254 1059.52 Q62.1263 1059.52 59.6726 1060.29 Q57.2421 1061.05 54.4643 1062.6 L54.4643 1057.88 Q57.2884 1056.74 59.7421 1056.16 Q62.1958 1055.59 64.2328 1055.59 Q69.6031 1055.59 72.7976 1058.27 Q75.992 1060.96 75.992 1065.45 Q75.992 1067.58 75.1818 1069.5 Q74.3948 1071.4 72.2883 1073.99 Q71.7096 1074.66 68.6078 1077.88 Q65.5059 1081.07 59.8578 1086.84 Z\" fill=\"#000000\" fill-rule=\"evenodd\" fill-opacity=\"1\" /><path clip-path=\"url(#clip390)\" d=\"M 0 0 M69.0476 846.46 Q72.404 847.177 74.279 849.446 Q76.1772 851.714 76.1772 855.048 Q76.1772 860.163 72.6587 862.964 Q69.1402 865.765 62.6587 865.765 Q60.4828 865.765 58.168 865.325 Q55.8764 864.909 53.4227 864.052 L53.4227 859.538 Q55.3671 860.673 57.6819 861.251 Q59.9967 861.83 62.5198 861.83 Q66.918 861.83 69.2096 860.094 Q71.5244 858.358 71.5244 855.048 Q71.5244 851.992 69.3717 850.279 Q67.242 848.543 63.4226 848.543 L59.3949 848.543 L59.3949 844.7 L63.6078 844.7 Q67.0569 844.7 68.8855 843.335 Q70.7142 841.946 70.7142 839.353 Q70.7142 836.691 68.8161 835.279 Q66.9411 833.844 63.4226 833.844 Q61.5013 833.844 59.3023 834.261 Q57.1032 834.677 54.4643 835.557 L54.4643 831.39 Q57.1264 830.65 59.4412 830.279 Q61.7791 829.909 63.8393 829.909 Q69.1633 829.909 72.2652 832.339 Q75.367 834.747 75.367 838.867 Q75.367 841.737 73.7235 843.728 Q72.08 845.696 69.0476 846.46 Z\" fill=\"#000000\" fill-rule=\"evenodd\" fill-opacity=\"1\" /><path clip-path=\"url(#clip390)\" d=\"M 0 0 M66.5939 608.931 L54.7884 627.38 L66.5939 627.38 L66.5939 608.931 M65.367 604.857 L71.2466 604.857 L71.2466 627.38 L76.1772 627.38 L76.1772 631.268 L71.2466 631.268 L71.2466 639.417 L66.5939 639.417 L66.5939 631.268 L50.9921 631.268 L50.9921 626.755 L65.367 604.857 Z\" fill=\"#000000\" fill-rule=\"evenodd\" fill-opacity=\"1\" /><path clip-path=\"url(#clip390)\" d=\"M 0 0 M55.2745 379.179 L73.6309 379.179 L73.6309 383.114 L59.5569 383.114 L59.5569 391.587 Q60.5754 391.239 61.5939 391.077 Q62.6124 390.892 63.6309 390.892 Q69.418 390.892 72.7976 394.063 Q76.1772 397.235 76.1772 402.651 Q76.1772 408.23 72.705 411.332 Q69.2328 414.411 62.9134 414.411 Q60.7374 414.411 58.4689 414.04 Q56.2236 413.67 53.8162 412.929 L53.8162 408.23 Q55.8995 409.364 58.1217 409.92 Q60.3439 410.475 62.8208 410.475 Q66.8254 410.475 69.1633 408.369 Q71.5013 406.262 71.5013 402.651 Q71.5013 399.04 69.1633 396.934 Q66.8254 394.827 62.8208 394.827 Q60.9458 394.827 59.0708 395.244 Q57.2189 395.661 55.2745 396.54 L55.2745 379.179 Z\" fill=\"#000000\" fill-rule=\"evenodd\" fill-opacity=\"1\" /><path clip-path=\"url(#clip390)\" d=\"M 0 0 M64.6495 168.919 Q61.5013 168.919 59.6495 171.071 Q57.8208 173.224 57.8208 176.974 Q57.8208 180.701 59.6495 182.877 Q61.5013 185.03 64.6495 185.03 Q67.7976 185.03 69.6263 182.877 Q71.4781 180.701 71.4781 176.974 Q71.4781 173.224 69.6263 171.071 Q67.7976 168.919 64.6495 168.919 M73.9318 154.266 L73.9318 158.525 Q72.1726 157.692 70.367 157.252 Q68.5846 156.812 66.8254 156.812 Q62.1958 156.812 59.7421 159.937 Q57.3115 163.062 56.9643 169.382 Q58.33 167.368 60.3902 166.303 Q62.4504 165.215 64.9272 165.215 Q70.1355 165.215 73.1448 168.386 Q76.1772 171.534 76.1772 176.974 Q76.1772 182.298 73.029 185.516 Q69.8809 188.733 64.6495 188.733 Q58.6541 188.733 55.4828 184.15 Q52.3116 179.544 52.3116 170.817 Q52.3116 162.622 56.2004 157.761 Q60.0893 152.877 66.6402 152.877 Q68.3994 152.877 70.1818 153.224 Q71.9874 153.571 73.9318 154.266 Z\" fill=\"#000000\" fill-rule=\"evenodd\" fill-opacity=\"1\" /><polyline clip-path=\"url(#clip392)\" style=\"stroke:#000000; stroke-width:4; stroke-opacity:1; fill:none\" points=\"\n",
       "  175.59,96.6969 175.59,87.9763 \n",
       "  \"/>\n",
       "<polyline clip-path=\"url(#clip392)\" style=\"stroke:#000000; stroke-width:4; stroke-opacity:1; fill:none\" points=\"\n",
       "  293.021,551.209 293.021,541.59 \n",
       "  \"/>\n",
       "<polyline clip-path=\"url(#clip392)\" style=\"stroke:#000000; stroke-width:4; stroke-opacity:1; fill:none\" points=\"\n",
       "  410.451,786.288 410.451,770.819 \n",
       "  \"/>\n",
       "<polyline clip-path=\"url(#clip392)\" style=\"stroke:#000000; stroke-width:4; stroke-opacity:1; fill:none\" points=\"\n",
       "  527.882,930.393 527.882,912.051 \n",
       "  \"/>\n",
       "<polyline clip-path=\"url(#clip392)\" style=\"stroke:#000000; stroke-width:4; stroke-opacity:1; fill:none\" points=\"\n",
       "  645.313,1015.45 645.313,1005.27 \n",
       "  \"/>\n",
       "<polyline clip-path=\"url(#clip392)\" style=\"stroke:#000000; stroke-width:4; stroke-opacity:1; fill:none\" points=\"\n",
       "  762.744,1080.32 762.744,1076.92 \n",
       "  \"/>\n",
       "<polyline clip-path=\"url(#clip392)\" style=\"stroke:#000000; stroke-width:4; stroke-opacity:1; fill:none\" points=\"\n",
       "  880.174,1141.23 880.174,1128.73 \n",
       "  \"/>\n",
       "<polyline clip-path=\"url(#clip392)\" style=\"stroke:#000000; stroke-width:4; stroke-opacity:1; fill:none\" points=\"\n",
       "  997.605,1398.16 997.605,1077.09 \n",
       "  \"/>\n",
       "<polyline clip-path=\"url(#clip392)\" style=\"stroke:#000000; stroke-width:4; stroke-opacity:1; fill:none\" points=\"\n",
       "  1115.04,1309.1 1115.04,1185.4 \n",
       "  \"/>\n",
       "<polyline clip-path=\"url(#clip392)\" style=\"stroke:#000000; stroke-width:4; stroke-opacity:1; fill:none\" points=\"\n",
       "  1232.47,1302.6 1232.47,1241.43 \n",
       "  \"/>\n",
       "<polyline clip-path=\"url(#clip392)\" style=\"stroke:#000000; stroke-width:4; stroke-opacity:1; fill:none\" points=\"\n",
       "  1349.9,1298.43 1349.9,1288 \n",
       "  \"/>\n",
       "<polyline clip-path=\"url(#clip392)\" style=\"stroke:#000000; stroke-width:4; stroke-opacity:1; fill:none\" points=\"\n",
       "  1467.33,1299.99 1467.33,1294.21 \n",
       "  \"/>\n",
       "<polyline clip-path=\"url(#clip392)\" style=\"stroke:#000000; stroke-width:4; stroke-opacity:1; fill:none\" points=\"\n",
       "  1584.76,1301.78 1584.76,1298.66 \n",
       "  \"/>\n",
       "<polyline clip-path=\"url(#clip392)\" style=\"stroke:#000000; stroke-width:4; stroke-opacity:1; fill:none\" points=\"\n",
       "  1702.19,1445.72 1702.19,1245.14 \n",
       "  \"/>\n",
       "<polyline clip-path=\"url(#clip392)\" style=\"stroke:#000000; stroke-width:4; stroke-opacity:1; fill:none\" points=\"\n",
       "  1819.62,1300.15 1819.62,1297.15 \n",
       "  \"/>\n",
       "<polyline clip-path=\"url(#clip392)\" style=\"stroke:#000000; stroke-width:4; stroke-opacity:1; fill:none\" points=\"\n",
       "  1937.05,1301.03 1937.05,1298.57 \n",
       "  \"/>\n",
       "<polyline clip-path=\"url(#clip392)\" style=\"stroke:#000000; stroke-width:4; stroke-opacity:1; fill:none\" points=\"\n",
       "  2054.48,1299.96 2054.48,1299.25 \n",
       "  \"/>\n",
       "<polyline clip-path=\"url(#clip392)\" style=\"stroke:#000000; stroke-width:4; stroke-opacity:1; fill:none\" points=\"\n",
       "  2171.91,1445.4 2171.91,1244.03 \n",
       "  \"/>\n",
       "<polyline clip-path=\"url(#clip392)\" style=\"stroke:#000000; stroke-width:4; stroke-opacity:1; fill:none\" points=\"\n",
       "  2289.34,1299.82 2289.34,1299.58 \n",
       "  \"/>\n",
       "<line clip-path=\"url(#clip392)\" x1=\"191.59\" y1=\"96.6969\" x2=\"159.59\" y2=\"96.6969\" style=\"stroke:#000000; stroke-width:3.2; stroke-opacity:1\"/>\n",
       "<line clip-path=\"url(#clip392)\" x1=\"191.59\" y1=\"87.9763\" x2=\"159.59\" y2=\"87.9763\" style=\"stroke:#000000; stroke-width:3.2; stroke-opacity:1\"/>\n",
       "<line clip-path=\"url(#clip392)\" x1=\"309.021\" y1=\"551.209\" x2=\"277.021\" y2=\"551.209\" style=\"stroke:#000000; stroke-width:3.2; stroke-opacity:1\"/>\n",
       "<line clip-path=\"url(#clip392)\" x1=\"309.021\" y1=\"541.59\" x2=\"277.021\" y2=\"541.59\" style=\"stroke:#000000; stroke-width:3.2; stroke-opacity:1\"/>\n",
       "<line clip-path=\"url(#clip392)\" x1=\"426.451\" y1=\"786.288\" x2=\"394.451\" y2=\"786.288\" style=\"stroke:#000000; stroke-width:3.2; stroke-opacity:1\"/>\n",
       "<line clip-path=\"url(#clip392)\" x1=\"426.451\" y1=\"770.819\" x2=\"394.451\" y2=\"770.819\" style=\"stroke:#000000; stroke-width:3.2; stroke-opacity:1\"/>\n",
       "<line clip-path=\"url(#clip392)\" x1=\"543.882\" y1=\"930.393\" x2=\"511.882\" y2=\"930.393\" style=\"stroke:#000000; stroke-width:3.2; stroke-opacity:1\"/>\n",
       "<line clip-path=\"url(#clip392)\" x1=\"543.882\" y1=\"912.051\" x2=\"511.882\" y2=\"912.051\" style=\"stroke:#000000; stroke-width:3.2; stroke-opacity:1\"/>\n",
       "<line clip-path=\"url(#clip392)\" x1=\"661.313\" y1=\"1015.45\" x2=\"629.313\" y2=\"1015.45\" style=\"stroke:#000000; stroke-width:3.2; stroke-opacity:1\"/>\n",
       "<line clip-path=\"url(#clip392)\" x1=\"661.313\" y1=\"1005.27\" x2=\"629.313\" y2=\"1005.27\" style=\"stroke:#000000; stroke-width:3.2; stroke-opacity:1\"/>\n",
       "<line clip-path=\"url(#clip392)\" x1=\"778.744\" y1=\"1080.32\" x2=\"746.744\" y2=\"1080.32\" style=\"stroke:#000000; stroke-width:3.2; stroke-opacity:1\"/>\n",
       "<line clip-path=\"url(#clip392)\" x1=\"778.744\" y1=\"1076.92\" x2=\"746.744\" y2=\"1076.92\" style=\"stroke:#000000; stroke-width:3.2; stroke-opacity:1\"/>\n",
       "<line clip-path=\"url(#clip392)\" x1=\"896.174\" y1=\"1141.23\" x2=\"864.174\" y2=\"1141.23\" style=\"stroke:#000000; stroke-width:3.2; stroke-opacity:1\"/>\n",
       "<line clip-path=\"url(#clip392)\" x1=\"896.174\" y1=\"1128.73\" x2=\"864.174\" y2=\"1128.73\" style=\"stroke:#000000; stroke-width:3.2; stroke-opacity:1\"/>\n",
       "<line clip-path=\"url(#clip392)\" x1=\"1013.61\" y1=\"1398.16\" x2=\"981.605\" y2=\"1398.16\" style=\"stroke:#000000; stroke-width:3.2; stroke-opacity:1\"/>\n",
       "<line clip-path=\"url(#clip392)\" x1=\"1013.61\" y1=\"1077.09\" x2=\"981.605\" y2=\"1077.09\" style=\"stroke:#000000; stroke-width:3.2; stroke-opacity:1\"/>\n",
       "<line clip-path=\"url(#clip392)\" x1=\"1131.04\" y1=\"1309.1\" x2=\"1099.04\" y2=\"1309.1\" style=\"stroke:#000000; stroke-width:3.2; stroke-opacity:1\"/>\n",
       "<line clip-path=\"url(#clip392)\" x1=\"1131.04\" y1=\"1185.4\" x2=\"1099.04\" y2=\"1185.4\" style=\"stroke:#000000; stroke-width:3.2; stroke-opacity:1\"/>\n",
       "<line clip-path=\"url(#clip392)\" x1=\"1248.47\" y1=\"1302.6\" x2=\"1216.47\" y2=\"1302.6\" style=\"stroke:#000000; stroke-width:3.2; stroke-opacity:1\"/>\n",
       "<line clip-path=\"url(#clip392)\" x1=\"1248.47\" y1=\"1241.43\" x2=\"1216.47\" y2=\"1241.43\" style=\"stroke:#000000; stroke-width:3.2; stroke-opacity:1\"/>\n",
       "<line clip-path=\"url(#clip392)\" x1=\"1365.9\" y1=\"1298.43\" x2=\"1333.9\" y2=\"1298.43\" style=\"stroke:#000000; stroke-width:3.2; stroke-opacity:1\"/>\n",
       "<line clip-path=\"url(#clip392)\" x1=\"1365.9\" y1=\"1288\" x2=\"1333.9\" y2=\"1288\" style=\"stroke:#000000; stroke-width:3.2; stroke-opacity:1\"/>\n",
       "<line clip-path=\"url(#clip392)\" x1=\"1483.33\" y1=\"1299.99\" x2=\"1451.33\" y2=\"1299.99\" style=\"stroke:#000000; stroke-width:3.2; stroke-opacity:1\"/>\n",
       "<line clip-path=\"url(#clip392)\" x1=\"1483.33\" y1=\"1294.21\" x2=\"1451.33\" y2=\"1294.21\" style=\"stroke:#000000; stroke-width:3.2; stroke-opacity:1\"/>\n",
       "<line clip-path=\"url(#clip392)\" x1=\"1600.76\" y1=\"1301.78\" x2=\"1568.76\" y2=\"1301.78\" style=\"stroke:#000000; stroke-width:3.2; stroke-opacity:1\"/>\n",
       "<line clip-path=\"url(#clip392)\" x1=\"1600.76\" y1=\"1298.66\" x2=\"1568.76\" y2=\"1298.66\" style=\"stroke:#000000; stroke-width:3.2; stroke-opacity:1\"/>\n",
       "<line clip-path=\"url(#clip392)\" x1=\"1718.19\" y1=\"1445.72\" x2=\"1686.19\" y2=\"1445.72\" style=\"stroke:#000000; stroke-width:3.2; stroke-opacity:1\"/>\n",
       "<line clip-path=\"url(#clip392)\" x1=\"1718.19\" y1=\"1245.14\" x2=\"1686.19\" y2=\"1245.14\" style=\"stroke:#000000; stroke-width:3.2; stroke-opacity:1\"/>\n",
       "<line clip-path=\"url(#clip392)\" x1=\"1835.62\" y1=\"1300.15\" x2=\"1803.62\" y2=\"1300.15\" style=\"stroke:#000000; stroke-width:3.2; stroke-opacity:1\"/>\n",
       "<line clip-path=\"url(#clip392)\" x1=\"1835.62\" y1=\"1297.15\" x2=\"1803.62\" y2=\"1297.15\" style=\"stroke:#000000; stroke-width:3.2; stroke-opacity:1\"/>\n",
       "<line clip-path=\"url(#clip392)\" x1=\"1953.05\" y1=\"1301.03\" x2=\"1921.05\" y2=\"1301.03\" style=\"stroke:#000000; stroke-width:3.2; stroke-opacity:1\"/>\n",
       "<line clip-path=\"url(#clip392)\" x1=\"1953.05\" y1=\"1298.57\" x2=\"1921.05\" y2=\"1298.57\" style=\"stroke:#000000; stroke-width:3.2; stroke-opacity:1\"/>\n",
       "<line clip-path=\"url(#clip392)\" x1=\"2070.48\" y1=\"1299.96\" x2=\"2038.48\" y2=\"1299.96\" style=\"stroke:#000000; stroke-width:3.2; stroke-opacity:1\"/>\n",
       "<line clip-path=\"url(#clip392)\" x1=\"2070.48\" y1=\"1299.25\" x2=\"2038.48\" y2=\"1299.25\" style=\"stroke:#000000; stroke-width:3.2; stroke-opacity:1\"/>\n",
       "<line clip-path=\"url(#clip392)\" x1=\"2187.91\" y1=\"1445.4\" x2=\"2155.91\" y2=\"1445.4\" style=\"stroke:#000000; stroke-width:3.2; stroke-opacity:1\"/>\n",
       "<line clip-path=\"url(#clip392)\" x1=\"2187.91\" y1=\"1244.03\" x2=\"2155.91\" y2=\"1244.03\" style=\"stroke:#000000; stroke-width:3.2; stroke-opacity:1\"/>\n",
       "<line clip-path=\"url(#clip392)\" x1=\"2305.34\" y1=\"1299.82\" x2=\"2273.34\" y2=\"1299.82\" style=\"stroke:#000000; stroke-width:3.2; stroke-opacity:1\"/>\n",
       "<line clip-path=\"url(#clip392)\" x1=\"2305.34\" y1=\"1299.58\" x2=\"2273.34\" y2=\"1299.58\" style=\"stroke:#000000; stroke-width:3.2; stroke-opacity:1\"/>\n",
       "<circle clip-path=\"url(#clip392)\" cx=\"175.59\" cy=\"92.3366\" r=\"14\" fill=\"#009af9\" fill-rule=\"evenodd\" fill-opacity=\"1\" stroke=\"#000000\" stroke-opacity=\"1\" stroke-width=\"3.2\"/>\n",
       "<circle clip-path=\"url(#clip392)\" cx=\"293.021\" cy=\"546.399\" r=\"14\" fill=\"#009af9\" fill-rule=\"evenodd\" fill-opacity=\"1\" stroke=\"#000000\" stroke-opacity=\"1\" stroke-width=\"3.2\"/>\n",
       "<circle clip-path=\"url(#clip392)\" cx=\"410.451\" cy=\"778.553\" r=\"14\" fill=\"#009af9\" fill-rule=\"evenodd\" fill-opacity=\"1\" stroke=\"#000000\" stroke-opacity=\"1\" stroke-width=\"3.2\"/>\n",
       "<circle clip-path=\"url(#clip392)\" cx=\"527.882\" cy=\"921.222\" r=\"14\" fill=\"#009af9\" fill-rule=\"evenodd\" fill-opacity=\"1\" stroke=\"#000000\" stroke-opacity=\"1\" stroke-width=\"3.2\"/>\n",
       "<circle clip-path=\"url(#clip392)\" cx=\"645.313\" cy=\"1010.36\" r=\"14\" fill=\"#009af9\" fill-rule=\"evenodd\" fill-opacity=\"1\" stroke=\"#000000\" stroke-opacity=\"1\" stroke-width=\"3.2\"/>\n",
       "<circle clip-path=\"url(#clip392)\" cx=\"762.744\" cy=\"1078.62\" r=\"14\" fill=\"#009af9\" fill-rule=\"evenodd\" fill-opacity=\"1\" stroke=\"#000000\" stroke-opacity=\"1\" stroke-width=\"3.2\"/>\n",
       "<circle clip-path=\"url(#clip392)\" cx=\"880.174\" cy=\"1134.98\" r=\"14\" fill=\"#009af9\" fill-rule=\"evenodd\" fill-opacity=\"1\" stroke=\"#000000\" stroke-opacity=\"1\" stroke-width=\"3.2\"/>\n",
       "<circle clip-path=\"url(#clip392)\" cx=\"997.605\" cy=\"1237.62\" r=\"14\" fill=\"#009af9\" fill-rule=\"evenodd\" fill-opacity=\"1\" stroke=\"#000000\" stroke-opacity=\"1\" stroke-width=\"3.2\"/>\n",
       "<circle clip-path=\"url(#clip392)\" cx=\"1115.04\" cy=\"1247.25\" r=\"14\" fill=\"#009af9\" fill-rule=\"evenodd\" fill-opacity=\"1\" stroke=\"#000000\" stroke-opacity=\"1\" stroke-width=\"3.2\"/>\n",
       "<circle clip-path=\"url(#clip392)\" cx=\"1232.47\" cy=\"1272.01\" r=\"14\" fill=\"#009af9\" fill-rule=\"evenodd\" fill-opacity=\"1\" stroke=\"#000000\" stroke-opacity=\"1\" stroke-width=\"3.2\"/>\n",
       "<circle clip-path=\"url(#clip392)\" cx=\"1349.9\" cy=\"1293.22\" r=\"14\" fill=\"#009af9\" fill-rule=\"evenodd\" fill-opacity=\"1\" stroke=\"#000000\" stroke-opacity=\"1\" stroke-width=\"3.2\"/>\n",
       "<circle clip-path=\"url(#clip392)\" cx=\"1467.33\" cy=\"1297.1\" r=\"14\" fill=\"#009af9\" fill-rule=\"evenodd\" fill-opacity=\"1\" stroke=\"#000000\" stroke-opacity=\"1\" stroke-width=\"3.2\"/>\n",
       "<circle clip-path=\"url(#clip392)\" cx=\"1584.76\" cy=\"1300.22\" r=\"14\" fill=\"#009af9\" fill-rule=\"evenodd\" fill-opacity=\"1\" stroke=\"#000000\" stroke-opacity=\"1\" stroke-width=\"3.2\"/>\n",
       "<circle clip-path=\"url(#clip392)\" cx=\"1702.19\" cy=\"1345.43\" r=\"14\" fill=\"#009af9\" fill-rule=\"evenodd\" fill-opacity=\"1\" stroke=\"#000000\" stroke-opacity=\"1\" stroke-width=\"3.2\"/>\n",
       "<circle clip-path=\"url(#clip392)\" cx=\"1819.62\" cy=\"1298.65\" r=\"14\" fill=\"#009af9\" fill-rule=\"evenodd\" fill-opacity=\"1\" stroke=\"#000000\" stroke-opacity=\"1\" stroke-width=\"3.2\"/>\n",
       "<circle clip-path=\"url(#clip392)\" cx=\"1937.05\" cy=\"1299.8\" r=\"14\" fill=\"#009af9\" fill-rule=\"evenodd\" fill-opacity=\"1\" stroke=\"#000000\" stroke-opacity=\"1\" stroke-width=\"3.2\"/>\n",
       "<circle clip-path=\"url(#clip392)\" cx=\"2054.48\" cy=\"1299.6\" r=\"14\" fill=\"#009af9\" fill-rule=\"evenodd\" fill-opacity=\"1\" stroke=\"#000000\" stroke-opacity=\"1\" stroke-width=\"3.2\"/>\n",
       "<circle clip-path=\"url(#clip392)\" cx=\"2171.91\" cy=\"1344.72\" r=\"14\" fill=\"#009af9\" fill-rule=\"evenodd\" fill-opacity=\"1\" stroke=\"#000000\" stroke-opacity=\"1\" stroke-width=\"3.2\"/>\n",
       "<circle clip-path=\"url(#clip392)\" cx=\"2289.34\" cy=\"1299.7\" r=\"14\" fill=\"#009af9\" fill-rule=\"evenodd\" fill-opacity=\"1\" stroke=\"#000000\" stroke-opacity=\"1\" stroke-width=\"3.2\"/>\n",
       "</svg>\n"
      ]
     },
     "execution_count": 10,
     "metadata": {},
     "output_type": "execute_result"
    }
   ],
   "source": [
    "prob = collect(0.1:0.05:1.0)\n",
    "ff = final ./ (prob .* 100)\n",
    "imm = [Statistics.mean(a) for a in ff]\n",
    "imm_err = [Statistics.std(a) for a in ff]\n",
    "scatter(prob, imm, yerr = imm_err,lw = 2, grid = true, legend = false)"
   ]
  },
  {
   "cell_type": "code",
   "execution_count": null,
   "metadata": {},
   "outputs": [],
   "source": []
  }
 ],
 "metadata": {
  "kernelspec": {
   "display_name": "Julia 1.4.2",
   "language": "julia",
   "name": "julia-1.4"
  },
  "language_info": {
   "file_extension": ".jl",
   "mimetype": "application/julia",
   "name": "julia",
   "version": "1.4.2"
  }
 },
 "nbformat": 4,
 "nbformat_minor": 4
}
