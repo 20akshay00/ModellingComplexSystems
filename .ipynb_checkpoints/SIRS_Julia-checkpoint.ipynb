{
 "cells": [
  {
   "cell_type": "code",
   "execution_count": 1,
   "metadata": {},
   "outputs": [
    {
     "name": "stderr",
     "output_type": "stream",
     "text": [
      "┌ Info: Precompiling Plots [91a5bcdd-55d7-5caf-9e0b-520d859cae80]\n",
      "└ @ Base loading.jl:1260\n"
     ]
    },
    {
     "name": "stdout",
     "output_type": "stream",
     "text": [
      "132.619609 seconds (26.48 M allocations: 1.391 GiB, 0.72% gc time)\n"
     ]
    },
    {
     "name": "stderr",
     "output_type": "stream",
     "text": [
      "┌ Info: Precompiling Images [916415d5-f1e6-5110-898d-aaa5f9f070e0]\n",
      "└ @ Base loading.jl:1260\n"
     ]
    },
    {
     "name": "stdout",
     "output_type": "stream",
     "text": [
      "149.196535 seconds (8.95 M allocations: 474.319 MiB, 0.20% gc time)\n",
      "  0.000701 seconds (581 allocations: 28.328 KiB)\n"
     ]
    }
   ],
   "source": [
    "@time using Plots\n",
    "@time using Images\n",
    "@time using ColorSchemes"
   ]
  },
  {
   "cell_type": "markdown",
   "metadata": {},
   "source": [
    "## Auxilliary subroutines for SIR simulation"
   ]
  },
  {
   "cell_type": "code",
   "execution_count": 2,
   "metadata": {
    "scrolled": true
   },
   "outputs": [
    {
     "data": {
      "text/plain": [
       "neighbourIndices (generic function with 1 method)"
      ]
     },
     "execution_count": 2,
     "metadata": {},
     "output_type": "execute_result"
    }
   ],
   "source": [
    "function neighbourIndices(nType::Int64, rad::Int64)\n",
    "    indices = []\n",
    "    if(nType == 0)\n",
    "        indices = vcat([[i, 0] for i in -rad:rad], [[0, j] for j in -rad:rad])\n",
    "    elseif(nType == 1)\n",
    "        indices = [[i, j] for i in -rad:rad for j in -rad:rad]\n",
    "    elseif(nType == 2)\n",
    "        indices = [[i, j] for j in -rad:rad for i in (abs(j) - rad):(rad - abs(j))]\n",
    "    end\n",
    "    \n",
    "    indices = [CartesianIndex(ind...) for ind in setdiff(indices, [[0,0]])]\n",
    "end\n"
   ]
  },
  {
   "cell_type": "markdown",
   "metadata": {},
   "source": [
    "## Initial Conditions"
   ]
  },
  {
   "cell_type": "code",
   "execution_count": 3,
   "metadata": {},
   "outputs": [
    {
     "data": {
      "text/plain": [
       "setInitConditions (generic function with 1 method)"
      ]
     },
     "execution_count": 3,
     "metadata": {},
     "output_type": "execute_result"
    }
   ],
   "source": [
    "function setInitConditions(grid, init, tauI, tauR, indices)\n",
    "    if(init[1] == \"random\")\n",
    "        for index in indices\n",
    "            if(rand() < init[2])\n",
    "                grid[index] = tauI+1\n",
    "            end\n",
    "        end\n",
    "        grid[init[3], init[4]] = 1\n",
    "    \n",
    "    elseif(init[1] == \"assorted\")\n",
    "        for index in indices\n",
    "            if(rand() < init[2])\n",
    "                grid[index] = 1\n",
    "            elseif(rand() < init[3])\n",
    "                grid[index] = tauI+1\n",
    "            end\n",
    "        end\n",
    "        \n",
    "    elseif(init[1] == \"single\")\n",
    "        grid[init[2], init[3]] = 1\n",
    "        \n",
    "    elseif(init[1] == \"corners\")\n",
    "        grid[rad + 2, rad + 2] = 1\n",
    "        grid[rad + 2, n - rad - 2] = 1\n",
    "        grid[n - rad - 2, rad + 2] = 1\n",
    "        grid[n - rad - 2, n - rad - 2]  = 1\n",
    "         \n",
    "    elseif(init[1] == \"custom\")\n",
    "        grid[init[2], init[3]] = 1\n",
    "        grid[init[4], init[5]] = tauI + 1\n",
    "    end\n",
    "    \n",
    "    return\n",
    "end"
   ]
  },
  {
   "cell_type": "markdown",
   "metadata": {},
   "source": [
    "## Simulation"
   ]
  },
  {
   "cell_type": "code",
   "execution_count": 65,
   "metadata": {},
   "outputs": [
    {
     "data": {
      "text/plain": [
       "SIRSmodel (generic function with 1 method)"
      ]
     },
     "execution_count": 65,
     "metadata": {},
     "output_type": "execute_result"
    }
   ],
   "source": [
    "function SIRSmodel(n::Int64, tauI::Int64, tauR::Int64, nType::Int64, rad::Int64, nsteps::Int64, anim::Bool, colbar::Bool, fname, init)\n",
    "    grid = zeros(Int64, (n, n)) #2D grid\n",
    "    nData = zeros(Int64, (nsteps, 3)) #S,I,R count\n",
    "    frames = [] #to store grid for display\n",
    "    \n",
    "    infp = 0 #infection probability\n",
    "    tau0 = tauR + tauI #complete disease cycle \n",
    "    relNeighbour = neighbourIndices(nType, rad) #relative index of neighbours\n",
    "    isInfected(x) = 1 <= x <= tauI #infected check\n",
    "    indices = [CartesianIndex(i,j) for i in (rad+1):(n-rad) for j in (rad+1):(n-rad)]\n",
    "\n",
    "    #initial conditions\n",
    "    setInitConditions(grid, init, tauI, tauR, indices)\n",
    "    \n",
    "    #boundary conditions; fixed\n",
    "    grid[1:rad, :] .= tauI + 1\n",
    "    grid[(n-rad+1):n, :] .= tauI + 1\n",
    "    grid[:, 1:rad] .= tauI + 1\n",
    "    grid[:, (n-rad+1):n] .= tauI + 1   \n",
    "    \n",
    "    prev = copy(grid) #copy of the grid\n",
    "    push!(frames, copy(grid))\n",
    "    \n",
    "    #initial count\n",
    "    nData[1, 1] = count(x -> x==0, grid)\n",
    "    nData[1, 2] = count(x -> 1 <= x <= tauI, grid)\n",
    "    nData[1, 3] = count(x -> tauI < x <= tau0, grid)\n",
    "    \n",
    "    for k in 2:nsteps\n",
    "        nData[k, :] = nData[k-1, :]\n",
    "        \n",
    "        for index in indices\n",
    "            if(prev[index] == 0) #susceptible\n",
    "                infp = count(isInfected.(prev[relNeighbour .|> x-> index+x]))/length(relNeighbour)\n",
    "                \n",
    "                if(0<infp) #infection\n",
    "                    grid[index] += 1\n",
    "                    nData[k, 1] -= 1\n",
    "                    nData[k, 2] += 1\n",
    "                end\n",
    "                \n",
    "            elseif(prev[index] < tau0) #infected/refractory\n",
    "                grid[index] += 1\n",
    "                \n",
    "                if(grid[index] == tauI + 1) #transition to R\n",
    "                    nData[k, 2] -= 1\n",
    "                    nData[k, 3] += 1\n",
    "                end\n",
    "            \n",
    "            elseif(prev[index] == tau0) #transition to S\n",
    "                grid[index] = 0\n",
    "                nData[k, 3] -= 1\n",
    "                nData[k, 1] += 1\n",
    "            end\n",
    "        end\n",
    "        \n",
    "        prev = copy(grid)\n",
    "        push!(frames, copy(grid))\n",
    "    end\n",
    "    \n",
    "    #color gradient\n",
    "    colors = vcat([RGB{N0f8}(0, 0, 0)], range(RGB{N0f8}(0.5,0.0,0.0), stop=RGB{N0f8}(0.862,0,0), length= tauI),range(RGB{N0f8}(1,0.458,0.0), stop=RGB{N0f8}(1, 1, 0.196), length=tauR))\n",
    "    \n",
    "    if(colbar) #with colorbar\n",
    "        animGIF = @animate for i = 1:nsteps \n",
    "            heatmap(frames[i], c = palette(colors, tau0+1), clim = (0, tau0))\n",
    "        end\n",
    "        \n",
    "    else #without colorbar\n",
    "        cmap = Dict(zip(0:tau0+1, colors))\n",
    "        animGIF = @animate for i = 1:nsteps \n",
    "            plot([cmap[p] for p in frames[i]])\n",
    "        end\n",
    "    end\n",
    "        \n",
    "    gif(animGIF, fname, fps = 15)\n",
    "    \n",
    "    return nData\n",
    "end     \n",
    "    "
   ]
  },
  {
   "cell_type": "code",
   "execution_count": 64,
   "metadata": {
    "scrolled": true
   },
   "outputs": [
    {
     "name": "stdout",
     "output_type": "stream",
     "text": [
      " 18.774421 seconds (59.97 M allocations: 2.619 GiB, 2.09% gc time)\n"
     ]
    },
    {
     "name": "stderr",
     "output_type": "stream",
     "text": [
      "┌ Info: Saved animation to \n",
      "│   fn = /home/akshay/code-repo/ComplexSystems/outputs2/2SIRS1.gif\n",
      "└ @ Plots /home/akshay/.julia/packages/Plots/uCh2y/src/animation.jl:104\n"
     ]
    }
   ],
   "source": [
    "#function SIRSmodel(n, tauI, tauR, nType, rad, nsteps, anim, colorbar, init)\n",
    "nsteps = 200\n",
    "s = 150\n",
    "num = 1\n",
    "@time data = SIRSmodel(s, 3, 5, 2, num, nsteps, true, false, \"outputs2/2SIRS\"*string(num)*\".gif\", [\"single\", s÷2, s÷2])\n",
    "x = 1:nsteps\n",
    "plot(x, data, label = [\"Susceptible\" \"Infected\" \"Refractory\"], lw = 2, grid = true)\n",
    "savefig(\"outputs2/plot2\"*string(num)*\".png\")\n",
    "\n",
    "io = open(\"outputs2/data2\"*string(num)*\".txt\", \"w\")\n",
    "println(io, data[:, 1])\n",
    "close(io)"
   ]
  },
  {
   "cell_type": "markdown",
   "metadata": {},
   "source": [
    "## Collect data version"
   ]
  },
  {
   "cell_type": "code",
   "execution_count": 147,
   "metadata": {},
   "outputs": [
    {
     "data": {
      "text/plain": [
       "SIRSmodelCollect (generic function with 2 methods)"
      ]
     },
     "execution_count": 147,
     "metadata": {},
     "output_type": "execute_result"
    }
   ],
   "source": [
    "function SIRSmodelCollect(n::Int64, tauI::Int64, tauR::Int64, nType::Int64, rad::Int64, nsteps::Int64, anim::Bool, colbar::Bool, fname, init)\n",
    "    grid = zeros(Int64, (n + 2*rad, n + 2*rad)) #2D grid\n",
    "    nData = zeros(Int64, (nsteps, 3)) #S,I,R count\n",
    "    frames = [] #to store grid for display\n",
    "    \n",
    "    infp = 0 #infection probability\n",
    "    tau0 = tauR + tauI #complete disease cycle \n",
    "    isInfected(x) = 1 <= x <= tauI #infected check\n",
    "    \n",
    "    relNeighbour = neighbourIndices(nType, rad) #relative index of neighbours\n",
    "    indices = [CartesianIndex(i,j) for i in (rad+1):(n+rad) for j in (rad+1):(n+rad)]\n",
    "    \n",
    "    #initial conditions\n",
    "    setInitConditions(grid, init, tauI, tauR, indices)\n",
    "    \n",
    "    #boundary conditions; fixed\n",
    "    grid[1:rad, :] .= tauI + 1\n",
    "    grid[(n+rad+1):(n+2*rad), :] .= tauI + 1\n",
    "    grid[:, 1:rad] .= tauI + 1\n",
    "    grid[:, (n+rad+1):(n+2*rad)] .= tauI + 1   \n",
    "    \n",
    "    prev = copy(grid) #copy of the grid\n",
    "    timesteps = 1 #timesteps passed\n",
    "    push!(frames, copy(grid))\n",
    "    \n",
    "    #initial count\n",
    "    nData[1, 1] = count(x -> x==0, grid)\n",
    "    nData[1, 2] = count(x -> 1 <= x <= tauI, grid)\n",
    "    nData[1, 3] = count(x -> tauI < x <= tau0, grid)\n",
    "    \n",
    "    for k in 2:nsteps\n",
    "        nData[k, :] = nData[k-1, :]\n",
    "        \n",
    "        for index in indices\n",
    "            if(prev[index] == 0) #susceptible\n",
    "                infp = count(isInfected.(prev[relNeighbour .|> x-> index+x]))/length(relNeighbour)\n",
    "                \n",
    "                if(0<infp) #infection\n",
    "                    grid[index] += 1\n",
    "                    nData[k, 1] -= 1\n",
    "                    nData[k, 2] += 1\n",
    "                end\n",
    "                \n",
    "            elseif(prev[index] < tau0) #infected/refractory\n",
    "                grid[index] += 1\n",
    "                \n",
    "                if(grid[index] == tauI + 1) #transition to R\n",
    "                    nData[k, 2] -= 1\n",
    "                    nData[k, 3] += 1\n",
    "                end\n",
    "            \n",
    "            elseif(prev[index] == tau0) #transition to S\n",
    "                grid[index] = 0\n",
    "                nData[k, 3] -= 1\n",
    "                nData[k, 1] += 1\n",
    "            end\n",
    "        end\n",
    "        \n",
    "        prev = copy(grid)\n",
    "        push!(frames, copy(grid))\n",
    "        timesteps += 1\n",
    "        \n",
    "        if(nData[k, 1] == n^2 && k>2)  \n",
    "            break\n",
    "        end\n",
    "        \n",
    "    end\n",
    "    \n",
    "    #color gradient\n",
    "    colors = vcat([RGB{N0f8}(0, 0, 0)], range(RGB{N0f8}(0.5,0.0,0.0), stop=RGB{N0f8}(0.862,0,0), length= tauI),range(RGB{N0f8}(1,0.458,0.0), stop=RGB{N0f8}(1, 1, 0.196), length=tauR))\n",
    "    \n",
    "    if(colbar) #with colorbar\n",
    "        animGIF = @animate for i = 1:timesteps \n",
    "            heatmap(frames[i], c = palette(colors, tau0+1), clim = (0, tau0))\n",
    "        end\n",
    "        \n",
    "    else #without colorbar\n",
    "        cmap = Dict(zip(0:tau0+1, colors))\n",
    "        animGIF = @animate for i = 1:timesteps \n",
    "            plot([cmap[p] for p in frames[i]])\n",
    "        end\n",
    "    end\n",
    "        \n",
    "    gif(animGIF, fname, fps = 15)\n",
    "    \n",
    "    nData[timesteps:end, 1] .= nData[timesteps-1, 1]\n",
    "    nData[timesteps:end, 2] .= nData[timesteps-1, 2]\n",
    "    nData[timesteps:end, 3] .= nData[timesteps-1, 3]    \n",
    "    return [nData, timesteps]\n",
    "end     \n",
    "    "
   ]
  },
  {
   "cell_type": "code",
   "execution_count": 152,
   "metadata": {},
   "outputs": [
    {
     "data": {
      "text/plain": [
       "0-element Array{Any,1}"
      ]
     },
     "execution_count": 152,
     "metadata": {},
     "output_type": "execute_result"
    }
   ],
   "source": [
    "S2 = []\n",
    "I2 = []\n",
    "R2 = []\n",
    "numtime2 = []"
   ]
  },
  {
   "cell_type": "code",
   "execution_count": 167,
   "metadata": {},
   "outputs": [
    {
     "name": "stdout",
     "output_type": "stream",
     "text": [
      "  7.666011 seconds (9.59 M allocations: 9.860 GiB, 9.05% gc time)\n",
      "Any[211, 111, 78, 61, 51, 45, 40, 36, 34, 31, 30, 28, 27, 26, 25]\n"
     ]
    },
    {
     "name": "stderr",
     "output_type": "stream",
     "text": [
      "┌ Info: Saved animation to \n",
      "│   fn = /home/akshay/code-repo/ComplexSystems/outputs2/2SIRS15.gif\n",
      "└ @ Plots /home/akshay/.julia/packages/Plots/uCh2y/src/animation.jl:104\n"
     ]
    }
   ],
   "source": [
    "#function SIRSmodel(n, tauI, tauR, nType, rad, nsteps, anim, colorbar, init)\n",
    "nsteps = 300\n",
    "s = 200\n",
    "num = 15\n",
    "@time data = SIRSmodelCollect(s, 3, 5, 2, num, nsteps, true, false, \"outputs2/2SIRS\"*string(num)*\".gif\", [\"single\", s÷2, s÷2])\n",
    "push!(S2, minimum(data[1][:, 1]))\n",
    "push!(I2, maximum(data[1][:, 2]))\n",
    "push!(R2, maximum(data[1][:, 3]))\n",
    "push!(numtime2, data[2])\n",
    "\n",
    "x = 1:nsteps\n",
    "plot(x, data[1][:,:], label = [\"Susceptible\" \"Infected\" \"Refractory\"], lw = 2, grid = true)\n",
    "savefig(\"outputs2/plot2\"*string(num)*\".png\")\n",
    "\n",
    "io = open(\"outputs2/data2\"*string(num)*\".txt\", \"w\")\n",
    "println(io, data[1][:, 1])\n",
    "close(io)\n",
    "\n",
    "println(numtime2)"
   ]
  },
  {
   "cell_type": "code",
   "execution_count": 172,
   "metadata": {},
   "outputs": [
    {
     "name": "stdout",
     "output_type": "stream",
     "text": [
      "Any[36874, 33882, 31026, 28306, 25722, 23298, 20970, 18834, 16746, 14842, 13074, 11490, 10026, 8594, 7482]\n",
      "\n",
      "Any[1182, 2338, 3466, 4566, 5638, 6706, 7718, 8734, 9646, 10578, 11482, 12454, 13334, 14074, 14998]\n",
      "\n",
      "Any[2770, 5490, 8158, 10774, 13338, 15874, 18330, 20766, 23074, 25378, 27630, 29926, 32106, 34122, 36298]\n",
      "\n",
      "Any[211, 111, 78, 61, 51, 45, 40, 36, 34, 31, 30, 28, 27, 26, 25]"
     ]
    }
   ],
   "source": [
    "print(S2,\"\\n\\n\" ,I2, \"\\n\\n\", R2, \"\\n\\n\",numtime2)"
   ]
  },
  {
   "cell_type": "code",
   "execution_count": null,
   "metadata": {},
   "outputs": [],
   "source": []
  },
  {
   "cell_type": "code",
   "execution_count": null,
   "metadata": {},
   "outputs": [],
   "source": []
  }
 ],
 "metadata": {
  "kernelspec": {
   "display_name": "Julia 1.4.2",
   "language": "julia",
   "name": "julia-1.4"
  },
  "language_info": {
   "file_extension": ".jl",
   "mimetype": "application/julia",
   "name": "julia",
   "version": "1.4.2"
  }
 },
 "nbformat": 4,
 "nbformat_minor": 4
}
