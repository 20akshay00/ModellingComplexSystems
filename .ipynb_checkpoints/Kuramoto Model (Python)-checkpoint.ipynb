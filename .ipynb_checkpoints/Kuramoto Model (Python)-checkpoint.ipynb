{
 "cells": [
  {
   "cell_type": "code",
   "execution_count": 120,
   "metadata": {},
   "outputs": [],
   "source": [
    "import matplotlib.pyplot as plt\n",
    "import numpy as np\n",
    "import time"
   ]
  },
  {
   "cell_type": "code",
   "execution_count": 121,
   "metadata": {},
   "outputs": [],
   "source": [
    "def gaussianDist(N, mu, sigma):\n",
    "    return np.random.normal(mu, sigma, N)"
   ]
  },
  {
   "cell_type": "code",
   "execution_count": 168,
   "metadata": {},
   "outputs": [],
   "source": [
    "def kuramotoModel(N, K, dFunc, nSteps, sigma):\n",
    "    omega = dFunc(N, 0, sigma)\n",
    "    theta = np.random.uniform(0, 2*np.pi, N)\n",
    "    psi = np.zeros((nSteps), dtype = np.float64)\n",
    "    r = np.zeros((nSteps), dtype = np.float64)\n",
    "    dt = 5e-4\n",
    "    \n",
    "    for k in range(nSteps):\n",
    "        thetaSum = np.mean(np.exp(theta*1j))\n",
    "        r[k], psi[k] = cm.polar(thetaSum)\n",
    "        \n",
    "        theta = np.add(theta, dt*(np.add(omega, K*r[k]*np.sin(np.subtract(psi[k], theta)))))\n",
    "\n",
    "    plt.plot(np.array(range(len(r))), r)\n",
    "    ax = plt.gca()\n",
    "    ax.set_ylim(0, 1)"
   ]
  },
  {
   "cell_type": "code",
   "execution_count": null,
   "metadata": {},
   "outputs": [],
   "source": [
    "start = time.time()\n",
    "kuramotoModel(2000, 1.5, gaussianDist, 5*10**4, 1)\n",
    "end = time.time()\n",
    "print(end - start)"
   ]
  },
  {
   "cell_type": "code",
   "execution_count": null,
   "metadata": {},
   "outputs": [],
   "source": []
  }
 ],
 "metadata": {
  "kernelspec": {
   "display_name": "Python 3",
   "language": "python",
   "name": "python3"
  },
  "language_info": {
   "codemirror_mode": {
    "name": "ipython",
    "version": 3
   },
   "file_extension": ".py",
   "mimetype": "text/x-python",
   "name": "python",
   "nbconvert_exporter": "python",
   "pygments_lexer": "ipython3",
   "version": "3.8.5"
  }
 },
 "nbformat": 4,
 "nbformat_minor": 4
}
